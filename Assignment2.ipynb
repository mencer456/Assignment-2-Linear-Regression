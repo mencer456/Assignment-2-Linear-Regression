{
 "cells": [
  {
   "cell_type": "markdown",
   "metadata": {},
   "source": [
    "# Assignment 2: Linear Regression\n",
    "## Hannah Mencer"
   ]
  },
  {
   "cell_type": "markdown",
   "metadata": {},
   "source": [
    "## Predictors: number of convenience stores, distance to nearest mrt, and house age\n",
    "## Response: house price of unit area"
   ]
  },
  {
   "cell_type": "code",
   "execution_count": 23,
   "metadata": {},
   "outputs": [],
   "source": [
    "import pandas as pd\n",
    "import seaborn as sns\n",
    "import numpy as np\n",
    "\n",
    "import matplotlib.pyplot as plt\n",
    "\n",
    "from sklearn.model_selection import train_test_split\n",
    "\n",
    "from sklearn.linear_model import LinearRegression\n",
    "from sklearn.metrics import mean_squared_error, r2_score\n",
    "from sklearn.preprocessing import PolynomialFeatures"
   ]
  },
  {
   "cell_type": "code",
   "execution_count": 24,
   "metadata": {},
   "outputs": [
    {
     "data": {
      "text/html": [
       "<div>\n",
       "<style scoped>\n",
       "    .dataframe tbody tr th:only-of-type {\n",
       "        vertical-align: middle;\n",
       "    }\n",
       "\n",
       "    .dataframe tbody tr th {\n",
       "        vertical-align: top;\n",
       "    }\n",
       "\n",
       "    .dataframe thead th {\n",
       "        text-align: right;\n",
       "    }\n",
       "</style>\n",
       "<table border=\"1\" class=\"dataframe\">\n",
       "  <thead>\n",
       "    <tr style=\"text-align: right;\">\n",
       "      <th></th>\n",
       "      <th>No</th>\n",
       "      <th>X1 transaction date</th>\n",
       "      <th>X2 house age</th>\n",
       "      <th>X3 distance to the nearest MRT station</th>\n",
       "      <th>X4 number of convenience stores</th>\n",
       "      <th>X5 latitude</th>\n",
       "      <th>X6 longitude</th>\n",
       "      <th>Y house price of unit area</th>\n",
       "    </tr>\n",
       "  </thead>\n",
       "  <tbody>\n",
       "    <tr>\n",
       "      <th>0</th>\n",
       "      <td>1</td>\n",
       "      <td>2012.917</td>\n",
       "      <td>32.0</td>\n",
       "      <td>84.87882</td>\n",
       "      <td>10</td>\n",
       "      <td>24.98298</td>\n",
       "      <td>121.54024</td>\n",
       "      <td>37.9</td>\n",
       "    </tr>\n",
       "    <tr>\n",
       "      <th>1</th>\n",
       "      <td>2</td>\n",
       "      <td>2012.917</td>\n",
       "      <td>19.5</td>\n",
       "      <td>306.59470</td>\n",
       "      <td>9</td>\n",
       "      <td>24.98034</td>\n",
       "      <td>121.53951</td>\n",
       "      <td>42.2</td>\n",
       "    </tr>\n",
       "    <tr>\n",
       "      <th>2</th>\n",
       "      <td>3</td>\n",
       "      <td>2013.583</td>\n",
       "      <td>13.3</td>\n",
       "      <td>561.98450</td>\n",
       "      <td>5</td>\n",
       "      <td>24.98746</td>\n",
       "      <td>121.54391</td>\n",
       "      <td>47.3</td>\n",
       "    </tr>\n",
       "    <tr>\n",
       "      <th>3</th>\n",
       "      <td>4</td>\n",
       "      <td>2013.500</td>\n",
       "      <td>13.3</td>\n",
       "      <td>561.98450</td>\n",
       "      <td>5</td>\n",
       "      <td>24.98746</td>\n",
       "      <td>121.54391</td>\n",
       "      <td>54.8</td>\n",
       "    </tr>\n",
       "    <tr>\n",
       "      <th>4</th>\n",
       "      <td>5</td>\n",
       "      <td>2012.833</td>\n",
       "      <td>5.0</td>\n",
       "      <td>390.56840</td>\n",
       "      <td>5</td>\n",
       "      <td>24.97937</td>\n",
       "      <td>121.54245</td>\n",
       "      <td>43.1</td>\n",
       "    </tr>\n",
       "  </tbody>\n",
       "</table>\n",
       "</div>"
      ],
      "text/plain": [
       "   No  X1 transaction date  X2 house age  \\\n",
       "0   1             2012.917          32.0   \n",
       "1   2             2012.917          19.5   \n",
       "2   3             2013.583          13.3   \n",
       "3   4             2013.500          13.3   \n",
       "4   5             2012.833           5.0   \n",
       "\n",
       "   X3 distance to the nearest MRT station  X4 number of convenience stores  \\\n",
       "0                                84.87882                               10   \n",
       "1                               306.59470                                9   \n",
       "2                               561.98450                                5   \n",
       "3                               561.98450                                5   \n",
       "4                               390.56840                                5   \n",
       "\n",
       "   X5 latitude  X6 longitude  Y house price of unit area  \n",
       "0     24.98298     121.54024                        37.9  \n",
       "1     24.98034     121.53951                        42.2  \n",
       "2     24.98746     121.54391                        47.3  \n",
       "3     24.98746     121.54391                        54.8  \n",
       "4     24.97937     121.54245                        43.1  "
      ]
     },
     "execution_count": 24,
     "metadata": {},
     "output_type": "execute_result"
    }
   ],
   "source": [
    "df=pd.read_csv('real_estate.csv')\n",
    "df.head()"
   ]
  },
  {
   "cell_type": "code",
   "execution_count": 25,
   "metadata": {},
   "outputs": [
    {
     "data": {
      "text/plain": [
       "(414, 8)"
      ]
     },
     "execution_count": 25,
     "metadata": {},
     "output_type": "execute_result"
    }
   ],
   "source": [
    "df.shape"
   ]
  },
  {
   "cell_type": "code",
   "execution_count": 26,
   "metadata": {},
   "outputs": [
    {
     "data": {
      "text/plain": [
       "No                                          int64\n",
       "X1 transaction date                       float64\n",
       "X2 house age                              float64\n",
       "X3 distance to the nearest MRT station    float64\n",
       "X4 number of convenience stores             int64\n",
       "X5 latitude                               float64\n",
       "X6 longitude                              float64\n",
       "Y house price of unit area                float64\n",
       "dtype: object"
      ]
     },
     "execution_count": 26,
     "metadata": {},
     "output_type": "execute_result"
    }
   ],
   "source": [
    "df.dtypes"
   ]
  },
  {
   "cell_type": "code",
   "execution_count": 27,
   "metadata": {},
   "outputs": [
    {
     "data": {
      "text/html": [
       "<div>\n",
       "<style scoped>\n",
       "    .dataframe tbody tr th:only-of-type {\n",
       "        vertical-align: middle;\n",
       "    }\n",
       "\n",
       "    .dataframe tbody tr th {\n",
       "        vertical-align: top;\n",
       "    }\n",
       "\n",
       "    .dataframe thead th {\n",
       "        text-align: right;\n",
       "    }\n",
       "</style>\n",
       "<table border=\"1\" class=\"dataframe\">\n",
       "  <thead>\n",
       "    <tr style=\"text-align: right;\">\n",
       "      <th></th>\n",
       "      <th>No</th>\n",
       "      <th>X1 transaction date</th>\n",
       "      <th>X2 house age</th>\n",
       "      <th>X3 distance to the nearest MRT station</th>\n",
       "      <th>X4 number of convenience stores</th>\n",
       "      <th>X5 latitude</th>\n",
       "      <th>X6 longitude</th>\n",
       "      <th>Y house price of unit area</th>\n",
       "    </tr>\n",
       "  </thead>\n",
       "  <tbody>\n",
       "    <tr>\n",
       "      <th>90</th>\n",
       "      <td>91</td>\n",
       "      <td>2012.833</td>\n",
       "      <td>0.0</td>\n",
       "      <td>274.0144</td>\n",
       "      <td>1</td>\n",
       "      <td>24.97480</td>\n",
       "      <td>121.53059</td>\n",
       "      <td>45.4</td>\n",
       "    </tr>\n",
       "    <tr>\n",
       "      <th>200</th>\n",
       "      <td>201</td>\n",
       "      <td>2013.417</td>\n",
       "      <td>17.4</td>\n",
       "      <td>995.7554</td>\n",
       "      <td>0</td>\n",
       "      <td>24.96305</td>\n",
       "      <td>121.54915</td>\n",
       "      <td>25.5</td>\n",
       "    </tr>\n",
       "    <tr>\n",
       "      <th>14</th>\n",
       "      <td>15</td>\n",
       "      <td>2013.500</td>\n",
       "      <td>13.2</td>\n",
       "      <td>1164.8380</td>\n",
       "      <td>4</td>\n",
       "      <td>24.99156</td>\n",
       "      <td>121.53406</td>\n",
       "      <td>34.3</td>\n",
       "    </tr>\n",
       "    <tr>\n",
       "      <th>161</th>\n",
       "      <td>162</td>\n",
       "      <td>2013.417</td>\n",
       "      <td>19.2</td>\n",
       "      <td>616.4004</td>\n",
       "      <td>3</td>\n",
       "      <td>24.97723</td>\n",
       "      <td>121.53767</td>\n",
       "      <td>39.6</td>\n",
       "    </tr>\n",
       "    <tr>\n",
       "      <th>313</th>\n",
       "      <td>314</td>\n",
       "      <td>2013.333</td>\n",
       "      <td>8.3</td>\n",
       "      <td>104.8101</td>\n",
       "      <td>5</td>\n",
       "      <td>24.96674</td>\n",
       "      <td>121.54067</td>\n",
       "      <td>42.8</td>\n",
       "    </tr>\n",
       "    <tr>\n",
       "      <th>310</th>\n",
       "      <td>311</td>\n",
       "      <td>2013.583</td>\n",
       "      <td>16.4</td>\n",
       "      <td>1643.4990</td>\n",
       "      <td>2</td>\n",
       "      <td>24.95394</td>\n",
       "      <td>121.55174</td>\n",
       "      <td>24.7</td>\n",
       "    </tr>\n",
       "    <tr>\n",
       "      <th>234</th>\n",
       "      <td>235</td>\n",
       "      <td>2013.250</td>\n",
       "      <td>8.0</td>\n",
       "      <td>2216.6120</td>\n",
       "      <td>4</td>\n",
       "      <td>24.96007</td>\n",
       "      <td>121.51361</td>\n",
       "      <td>23.9</td>\n",
       "    </tr>\n",
       "    <tr>\n",
       "      <th>323</th>\n",
       "      <td>324</td>\n",
       "      <td>2013.417</td>\n",
       "      <td>28.6</td>\n",
       "      <td>197.1338</td>\n",
       "      <td>6</td>\n",
       "      <td>24.97631</td>\n",
       "      <td>121.54436</td>\n",
       "      <td>42.5</td>\n",
       "    </tr>\n",
       "    <tr>\n",
       "      <th>130</th>\n",
       "      <td>131</td>\n",
       "      <td>2013.250</td>\n",
       "      <td>29.6</td>\n",
       "      <td>535.5270</td>\n",
       "      <td>8</td>\n",
       "      <td>24.98092</td>\n",
       "      <td>121.53653</td>\n",
       "      <td>37.5</td>\n",
       "    </tr>\n",
       "    <tr>\n",
       "      <th>12</th>\n",
       "      <td>13</td>\n",
       "      <td>2012.917</td>\n",
       "      <td>13.0</td>\n",
       "      <td>492.2313</td>\n",
       "      <td>5</td>\n",
       "      <td>24.96515</td>\n",
       "      <td>121.53737</td>\n",
       "      <td>39.3</td>\n",
       "    </tr>\n",
       "  </tbody>\n",
       "</table>\n",
       "</div>"
      ],
      "text/plain": [
       "      No  X1 transaction date  X2 house age  \\\n",
       "90    91             2012.833           0.0   \n",
       "200  201             2013.417          17.4   \n",
       "14    15             2013.500          13.2   \n",
       "161  162             2013.417          19.2   \n",
       "313  314             2013.333           8.3   \n",
       "310  311             2013.583          16.4   \n",
       "234  235             2013.250           8.0   \n",
       "323  324             2013.417          28.6   \n",
       "130  131             2013.250          29.6   \n",
       "12    13             2012.917          13.0   \n",
       "\n",
       "     X3 distance to the nearest MRT station  X4 number of convenience stores  \\\n",
       "90                                 274.0144                                1   \n",
       "200                                995.7554                                0   \n",
       "14                                1164.8380                                4   \n",
       "161                                616.4004                                3   \n",
       "313                                104.8101                                5   \n",
       "310                               1643.4990                                2   \n",
       "234                               2216.6120                                4   \n",
       "323                                197.1338                                6   \n",
       "130                                535.5270                                8   \n",
       "12                                 492.2313                                5   \n",
       "\n",
       "     X5 latitude  X6 longitude  Y house price of unit area  \n",
       "90      24.97480     121.53059                        45.4  \n",
       "200     24.96305     121.54915                        25.5  \n",
       "14      24.99156     121.53406                        34.3  \n",
       "161     24.97723     121.53767                        39.6  \n",
       "313     24.96674     121.54067                        42.8  \n",
       "310     24.95394     121.55174                        24.7  \n",
       "234     24.96007     121.51361                        23.9  \n",
       "323     24.97631     121.54436                        42.5  \n",
       "130     24.98092     121.53653                        37.5  \n",
       "12      24.96515     121.53737                        39.3  "
      ]
     },
     "execution_count": 27,
     "metadata": {},
     "output_type": "execute_result"
    }
   ],
   "source": [
    "df.sample(10)"
   ]
  },
  {
   "cell_type": "code",
   "execution_count": 28,
   "metadata": {},
   "outputs": [
    {
     "data": {
      "text/plain": [
       "No                                        0\n",
       "X1 transaction date                       0\n",
       "X2 house age                              0\n",
       "X3 distance to the nearest MRT station    0\n",
       "X4 number of convenience stores           0\n",
       "X5 latitude                               0\n",
       "X6 longitude                              0\n",
       "Y house price of unit area                0\n",
       "dtype: int64"
      ]
     },
     "execution_count": 28,
     "metadata": {},
     "output_type": "execute_result"
    }
   ],
   "source": [
    "df.isnull().sum()"
   ]
  },
  {
   "cell_type": "markdown",
   "metadata": {},
   "source": [
    "There are no missing values, so we do not need to do anything to fill them."
   ]
  },
  {
   "cell_type": "code",
   "execution_count": 46,
   "metadata": {},
   "outputs": [
    {
     "data": {
      "text/plain": [
       "<AxesSubplot:xlabel='X1 transaction date'>"
      ]
     },
     "execution_count": 46,
     "metadata": {},
     "output_type": "execute_result"
    },
    {
     "data": {
      "image/png": "[encoded data removed]",
      "text/plain": [
       "<Figure size 432x288 with 1 Axes>"
      ]
     },
     "metadata": {
      "needs_background": "light"
     },
     "output_type": "display_data"
    }
   ],
   "source": [
    "sns.boxplot(x='X1 transaction date',data=df)"
   ]
  },
  {
   "cell_type": "markdown",
   "metadata": {},
   "source": [
    "There are no outliers, so we do not need to do anything."
   ]
  },
  {
   "cell_type": "code",
   "execution_count": 29,
   "metadata": {},
   "outputs": [
    {
     "data": {
      "text/plain": [
       "<AxesSubplot:xlabel='X2 house age'>"
      ]
     },
     "execution_count": 29,
     "metadata": {},
     "output_type": "execute_result"
    },
    {
     "data": {
      "image/png": "[encoded data removed]",
      "text/plain": [
       "<Figure size 432x288 with 1 Axes>"
      ]
     },
     "metadata": {
      "needs_background": "light"
     },
     "output_type": "display_data"
    }
   ],
   "source": [
    "sns.boxplot(x='X2 house age',data=df)"
   ]
  },
  {
   "cell_type": "markdown",
   "metadata": {},
   "source": [
    "There are no outliers, so we do not need to do anything."
   ]
  },
  {
   "cell_type": "code",
   "execution_count": 30,
   "metadata": {},
   "outputs": [
    {
     "data": {
      "text/plain": [
       "<AxesSubplot:xlabel='X3 distance to the nearest MRT station'>"
      ]
     },
     "execution_count": 30,
     "metadata": {},
     "output_type": "execute_result"
    },
    {
     "data": {
      "image/png": "[encoded data removed]",
      "text/plain": [
       "<Figure size 432x288 with 1 Axes>"
      ]
     },
     "metadata": {
      "needs_background": "light"
     },
     "output_type": "display_data"
    }
   ],
   "source": [
    "sns.boxplot(x='X3 distance to the nearest MRT station',data=df)"
   ]
  },
  {
   "cell_type": "code",
   "execution_count": 54,
   "metadata": {
    "collapsed": true
   },
   "outputs": [
    {
     "data": {
      "text/html": [
       "<div>\n",
       "<style scoped>\n",
       "    .dataframe tbody tr th:only-of-type {\n",
       "        vertical-align: middle;\n",
       "    }\n",
       "\n",
       "    .dataframe tbody tr th {\n",
       "        vertical-align: top;\n",
       "    }\n",
       "\n",
       "    .dataframe thead th {\n",
       "        text-align: right;\n",
       "    }\n",
       "</style>\n",
       "<table border=\"1\" class=\"dataframe\">\n",
       "  <thead>\n",
       "    <tr style=\"text-align: right;\">\n",
       "      <th></th>\n",
       "      <th>No</th>\n",
       "      <th>X1 transaction date</th>\n",
       "      <th>X2 house age</th>\n",
       "      <th>X3 distance to the nearest MRT station</th>\n",
       "      <th>X4 number of convenience stores</th>\n",
       "      <th>X5 latitude</th>\n",
       "      <th>X6 longitude</th>\n",
       "      <th>Y house price of unit area</th>\n",
       "    </tr>\n",
       "  </thead>\n",
       "  <tbody>\n",
       "    <tr>\n",
       "      <th>347</th>\n",
       "      <td>348</td>\n",
       "      <td>2013.583</td>\n",
       "      <td>17.4</td>\n",
       "      <td>6488.021</td>\n",
       "      <td>1</td>\n",
       "      <td>24.95719</td>\n",
       "      <td>121.47353</td>\n",
       "      <td>11.2</td>\n",
       "    </tr>\n",
       "    <tr>\n",
       "      <th>116</th>\n",
       "      <td>117</td>\n",
       "      <td>2013.000</td>\n",
       "      <td>30.9</td>\n",
       "      <td>6396.283</td>\n",
       "      <td>1</td>\n",
       "      <td>24.94375</td>\n",
       "      <td>121.47883</td>\n",
       "      <td>12.2</td>\n",
       "    </tr>\n",
       "    <tr>\n",
       "      <th>249</th>\n",
       "      <td>250</td>\n",
       "      <td>2012.833</td>\n",
       "      <td>18.0</td>\n",
       "      <td>6306.153</td>\n",
       "      <td>1</td>\n",
       "      <td>24.95743</td>\n",
       "      <td>121.47516</td>\n",
       "      <td>15.0</td>\n",
       "    </tr>\n",
       "    <tr>\n",
       "      <th>255</th>\n",
       "      <td>256</td>\n",
       "      <td>2013.417</td>\n",
       "      <td>31.5</td>\n",
       "      <td>5512.038</td>\n",
       "      <td>1</td>\n",
       "      <td>24.95095</td>\n",
       "      <td>121.48458</td>\n",
       "      <td>17.4</td>\n",
       "    </tr>\n",
       "    <tr>\n",
       "      <th>8</th>\n",
       "      <td>9</td>\n",
       "      <td>2013.500</td>\n",
       "      <td>31.7</td>\n",
       "      <td>5512.038</td>\n",
       "      <td>1</td>\n",
       "      <td>24.95095</td>\n",
       "      <td>121.48458</td>\n",
       "      <td>18.8</td>\n",
       "    </tr>\n",
       "    <tr>\n",
       "      <th>48</th>\n",
       "      <td>49</td>\n",
       "      <td>2013.417</td>\n",
       "      <td>24.2</td>\n",
       "      <td>4605.749</td>\n",
       "      <td>0</td>\n",
       "      <td>24.94684</td>\n",
       "      <td>121.49578</td>\n",
       "      <td>13.4</td>\n",
       "    </tr>\n",
       "    <tr>\n",
       "      <th>176</th>\n",
       "      <td>177</td>\n",
       "      <td>2012.833</td>\n",
       "      <td>13.9</td>\n",
       "      <td>4573.779</td>\n",
       "      <td>0</td>\n",
       "      <td>24.94867</td>\n",
       "      <td>121.49507</td>\n",
       "      <td>19.2</td>\n",
       "    </tr>\n",
       "    <tr>\n",
       "      <th>170</th>\n",
       "      <td>171</td>\n",
       "      <td>2013.333</td>\n",
       "      <td>24.0</td>\n",
       "      <td>4527.687</td>\n",
       "      <td>0</td>\n",
       "      <td>24.94741</td>\n",
       "      <td>121.49628</td>\n",
       "      <td>14.4</td>\n",
       "    </tr>\n",
       "    <tr>\n",
       "      <th>30</th>\n",
       "      <td>31</td>\n",
       "      <td>2013.500</td>\n",
       "      <td>25.9</td>\n",
       "      <td>4519.690</td>\n",
       "      <td>0</td>\n",
       "      <td>24.94826</td>\n",
       "      <td>121.49587</td>\n",
       "      <td>22.1</td>\n",
       "    </tr>\n",
       "    <tr>\n",
       "      <th>331</th>\n",
       "      <td>332</td>\n",
       "      <td>2013.333</td>\n",
       "      <td>25.6</td>\n",
       "      <td>4519.690</td>\n",
       "      <td>0</td>\n",
       "      <td>24.94826</td>\n",
       "      <td>121.49587</td>\n",
       "      <td>15.6</td>\n",
       "    </tr>\n",
       "    <tr>\n",
       "      <th>58</th>\n",
       "      <td>59</td>\n",
       "      <td>2013.500</td>\n",
       "      <td>30.3</td>\n",
       "      <td>4510.359</td>\n",
       "      <td>1</td>\n",
       "      <td>24.94925</td>\n",
       "      <td>121.49542</td>\n",
       "      <td>22.6</td>\n",
       "    </tr>\n",
       "    <tr>\n",
       "      <th>49</th>\n",
       "      <td>50</td>\n",
       "      <td>2012.667</td>\n",
       "      <td>29.4</td>\n",
       "      <td>4510.359</td>\n",
       "      <td>1</td>\n",
       "      <td>24.94925</td>\n",
       "      <td>121.49542</td>\n",
       "      <td>13.2</td>\n",
       "    </tr>\n",
       "    <tr>\n",
       "      <th>180</th>\n",
       "      <td>181</td>\n",
       "      <td>2012.667</td>\n",
       "      <td>26.9</td>\n",
       "      <td>4449.270</td>\n",
       "      <td>0</td>\n",
       "      <td>24.94898</td>\n",
       "      <td>121.49621</td>\n",
       "      <td>15.5</td>\n",
       "    </tr>\n",
       "    <tr>\n",
       "      <th>232</th>\n",
       "      <td>233</td>\n",
       "      <td>2012.917</td>\n",
       "      <td>27.1</td>\n",
       "      <td>4412.765</td>\n",
       "      <td>1</td>\n",
       "      <td>24.95032</td>\n",
       "      <td>121.49587</td>\n",
       "      <td>17.4</td>\n",
       "    </tr>\n",
       "    <tr>\n",
       "      <th>320</th>\n",
       "      <td>321</td>\n",
       "      <td>2012.750</td>\n",
       "      <td>13.5</td>\n",
       "      <td>4197.349</td>\n",
       "      <td>0</td>\n",
       "      <td>24.93885</td>\n",
       "      <td>121.50383</td>\n",
       "      <td>18.6</td>\n",
       "    </tr>\n",
       "    <tr>\n",
       "      <th>329</th>\n",
       "      <td>330</td>\n",
       "      <td>2013.000</td>\n",
       "      <td>13.6</td>\n",
       "      <td>4197.349</td>\n",
       "      <td>0</td>\n",
       "      <td>24.93885</td>\n",
       "      <td>121.50383</td>\n",
       "      <td>19.2</td>\n",
       "    </tr>\n",
       "    <tr>\n",
       "      <th>117</th>\n",
       "      <td>118</td>\n",
       "      <td>2013.000</td>\n",
       "      <td>13.6</td>\n",
       "      <td>4197.349</td>\n",
       "      <td>0</td>\n",
       "      <td>24.93885</td>\n",
       "      <td>121.50383</td>\n",
       "      <td>13.0</td>\n",
       "    </tr>\n",
       "    <tr>\n",
       "      <th>394</th>\n",
       "      <td>395</td>\n",
       "      <td>2013.500</td>\n",
       "      <td>32.6</td>\n",
       "      <td>4136.271</td>\n",
       "      <td>1</td>\n",
       "      <td>24.95544</td>\n",
       "      <td>121.49630</td>\n",
       "      <td>24.7</td>\n",
       "    </tr>\n",
       "    <tr>\n",
       "      <th>73</th>\n",
       "      <td>74</td>\n",
       "      <td>2013.167</td>\n",
       "      <td>13.8</td>\n",
       "      <td>4082.015</td>\n",
       "      <td>0</td>\n",
       "      <td>24.94155</td>\n",
       "      <td>121.50381</td>\n",
       "      <td>20.0</td>\n",
       "    </tr>\n",
       "    <tr>\n",
       "      <th>183</th>\n",
       "      <td>184</td>\n",
       "      <td>2013.500</td>\n",
       "      <td>17.0</td>\n",
       "      <td>4082.015</td>\n",
       "      <td>0</td>\n",
       "      <td>24.94155</td>\n",
       "      <td>121.50381</td>\n",
       "      <td>18.8</td>\n",
       "    </tr>\n",
       "    <tr>\n",
       "      <th>409</th>\n",
       "      <td>410</td>\n",
       "      <td>2013.000</td>\n",
       "      <td>13.7</td>\n",
       "      <td>4082.015</td>\n",
       "      <td>0</td>\n",
       "      <td>24.94155</td>\n",
       "      <td>121.50381</td>\n",
       "      <td>15.4</td>\n",
       "    </tr>\n",
       "    <tr>\n",
       "      <th>40</th>\n",
       "      <td>41</td>\n",
       "      <td>2013.000</td>\n",
       "      <td>13.6</td>\n",
       "      <td>4082.015</td>\n",
       "      <td>0</td>\n",
       "      <td>24.94155</td>\n",
       "      <td>121.50381</td>\n",
       "      <td>15.9</td>\n",
       "    </tr>\n",
       "    <tr>\n",
       "      <th>155</th>\n",
       "      <td>156</td>\n",
       "      <td>2013.167</td>\n",
       "      <td>13.8</td>\n",
       "      <td>4082.015</td>\n",
       "      <td>0</td>\n",
       "      <td>24.94155</td>\n",
       "      <td>121.50381</td>\n",
       "      <td>15.6</td>\n",
       "    </tr>\n",
       "    <tr>\n",
       "      <th>298</th>\n",
       "      <td>299</td>\n",
       "      <td>2013.333</td>\n",
       "      <td>16.7</td>\n",
       "      <td>4082.015</td>\n",
       "      <td>0</td>\n",
       "      <td>24.94155</td>\n",
       "      <td>121.50381</td>\n",
       "      <td>16.7</td>\n",
       "    </tr>\n",
       "    <tr>\n",
       "      <th>226</th>\n",
       "      <td>227</td>\n",
       "      <td>2013.000</td>\n",
       "      <td>16.5</td>\n",
       "      <td>4082.015</td>\n",
       "      <td>0</td>\n",
       "      <td>24.94155</td>\n",
       "      <td>121.50381</td>\n",
       "      <td>12.8</td>\n",
       "    </tr>\n",
       "    <tr>\n",
       "      <th>35</th>\n",
       "      <td>36</td>\n",
       "      <td>2013.500</td>\n",
       "      <td>13.9</td>\n",
       "      <td>4079.418</td>\n",
       "      <td>0</td>\n",
       "      <td>25.01459</td>\n",
       "      <td>121.51816</td>\n",
       "      <td>27.3</td>\n",
       "    </tr>\n",
       "    <tr>\n",
       "      <th>231</th>\n",
       "      <td>232</td>\n",
       "      <td>2012.833</td>\n",
       "      <td>16.2</td>\n",
       "      <td>4074.736</td>\n",
       "      <td>0</td>\n",
       "      <td>24.94235</td>\n",
       "      <td>121.50357</td>\n",
       "      <td>14.7</td>\n",
       "    </tr>\n",
       "    <tr>\n",
       "      <th>41</th>\n",
       "      <td>42</td>\n",
       "      <td>2013.500</td>\n",
       "      <td>16.8</td>\n",
       "      <td>4066.587</td>\n",
       "      <td>0</td>\n",
       "      <td>24.94297</td>\n",
       "      <td>121.50342</td>\n",
       "      <td>18.2</td>\n",
       "    </tr>\n",
       "    <tr>\n",
       "      <th>87</th>\n",
       "      <td>88</td>\n",
       "      <td>2013.583</td>\n",
       "      <td>16.9</td>\n",
       "      <td>4066.587</td>\n",
       "      <td>0</td>\n",
       "      <td>24.94297</td>\n",
       "      <td>121.50342</td>\n",
       "      <td>18.3</td>\n",
       "    </tr>\n",
       "    <tr>\n",
       "      <th>162</th>\n",
       "      <td>163</td>\n",
       "      <td>2012.750</td>\n",
       "      <td>16.0</td>\n",
       "      <td>4066.587</td>\n",
       "      <td>0</td>\n",
       "      <td>24.94297</td>\n",
       "      <td>121.50342</td>\n",
       "      <td>11.6</td>\n",
       "    </tr>\n",
       "    <tr>\n",
       "      <th>384</th>\n",
       "      <td>385</td>\n",
       "      <td>2012.750</td>\n",
       "      <td>16.1</td>\n",
       "      <td>4066.587</td>\n",
       "      <td>0</td>\n",
       "      <td>24.94297</td>\n",
       "      <td>121.50342</td>\n",
       "      <td>12.9</td>\n",
       "    </tr>\n",
       "    <tr>\n",
       "      <th>154</th>\n",
       "      <td>155</td>\n",
       "      <td>2013.500</td>\n",
       "      <td>16.9</td>\n",
       "      <td>4066.587</td>\n",
       "      <td>0</td>\n",
       "      <td>24.94297</td>\n",
       "      <td>121.50342</td>\n",
       "      <td>20.7</td>\n",
       "    </tr>\n",
       "    <tr>\n",
       "      <th>189</th>\n",
       "      <td>190</td>\n",
       "      <td>2012.917</td>\n",
       "      <td>16.3</td>\n",
       "      <td>4066.587</td>\n",
       "      <td>0</td>\n",
       "      <td>24.94297</td>\n",
       "      <td>121.50342</td>\n",
       "      <td>20.5</td>\n",
       "    </tr>\n",
       "    <tr>\n",
       "      <th>89</th>\n",
       "      <td>90</td>\n",
       "      <td>2013.500</td>\n",
       "      <td>23.0</td>\n",
       "      <td>3947.945</td>\n",
       "      <td>0</td>\n",
       "      <td>24.94783</td>\n",
       "      <td>121.50243</td>\n",
       "      <td>25.3</td>\n",
       "    </tr>\n",
       "    <tr>\n",
       "      <th>148</th>\n",
       "      <td>149</td>\n",
       "      <td>2013.500</td>\n",
       "      <td>16.4</td>\n",
       "      <td>3780.590</td>\n",
       "      <td>0</td>\n",
       "      <td>24.93293</td>\n",
       "      <td>121.51203</td>\n",
       "      <td>45.1</td>\n",
       "    </tr>\n",
       "    <tr>\n",
       "      <th>194</th>\n",
       "      <td>195</td>\n",
       "      <td>2013.500</td>\n",
       "      <td>15.2</td>\n",
       "      <td>3771.895</td>\n",
       "      <td>0</td>\n",
       "      <td>24.93363</td>\n",
       "      <td>121.51158</td>\n",
       "      <td>29.3</td>\n",
       "    </tr>\n",
       "    <tr>\n",
       "      <th>382</th>\n",
       "      <td>383</td>\n",
       "      <td>2013.000</td>\n",
       "      <td>16.3</td>\n",
       "      <td>3529.564</td>\n",
       "      <td>0</td>\n",
       "      <td>24.93207</td>\n",
       "      <td>121.51597</td>\n",
       "      <td>29.3</td>\n",
       "    </tr>\n",
       "    <tr>\n",
       "      <th>228</th>\n",
       "      <td>229</td>\n",
       "      <td>2013.417</td>\n",
       "      <td>11.9</td>\n",
       "      <td>3171.329</td>\n",
       "      <td>0</td>\n",
       "      <td>25.00115</td>\n",
       "      <td>121.51776</td>\n",
       "      <td>46.6</td>\n",
       "    </tr>\n",
       "    <tr>\n",
       "      <th>344</th>\n",
       "      <td>345</td>\n",
       "      <td>2013.500</td>\n",
       "      <td>34.6</td>\n",
       "      <td>3085.170</td>\n",
       "      <td>0</td>\n",
       "      <td>24.99800</td>\n",
       "      <td>121.51550</td>\n",
       "      <td>41.2</td>\n",
       "    </tr>\n",
       "    <tr>\n",
       "      <th>307</th>\n",
       "      <td>308</td>\n",
       "      <td>2012.833</td>\n",
       "      <td>10.3</td>\n",
       "      <td>3079.890</td>\n",
       "      <td>0</td>\n",
       "      <td>24.95460</td>\n",
       "      <td>121.56627</td>\n",
       "      <td>24.7</td>\n",
       "    </tr>\n",
       "    <tr>\n",
       "      <th>187</th>\n",
       "      <td>188</td>\n",
       "      <td>2013.000</td>\n",
       "      <td>8.9</td>\n",
       "      <td>3078.176</td>\n",
       "      <td>0</td>\n",
       "      <td>24.95464</td>\n",
       "      <td>121.56627</td>\n",
       "      <td>22.0</td>\n",
       "    </tr>\n",
       "    <tr>\n",
       "      <th>83</th>\n",
       "      <td>84</td>\n",
       "      <td>2012.917</td>\n",
       "      <td>25.3</td>\n",
       "      <td>2707.392</td>\n",
       "      <td>3</td>\n",
       "      <td>24.96056</td>\n",
       "      <td>121.50831</td>\n",
       "      <td>17.7</td>\n",
       "    </tr>\n",
       "    <tr>\n",
       "      <th>352</th>\n",
       "      <td>353</td>\n",
       "      <td>2012.833</td>\n",
       "      <td>18.4</td>\n",
       "      <td>2674.961</td>\n",
       "      <td>3</td>\n",
       "      <td>24.96143</td>\n",
       "      <td>121.50827</td>\n",
       "      <td>25.7</td>\n",
       "    </tr>\n",
       "    <tr>\n",
       "      <th>184</th>\n",
       "      <td>185</td>\n",
       "      <td>2012.750</td>\n",
       "      <td>14.1</td>\n",
       "      <td>2615.465</td>\n",
       "      <td>0</td>\n",
       "      <td>24.95495</td>\n",
       "      <td>121.56174</td>\n",
       "      <td>21.8</td>\n",
       "    </tr>\n",
       "    <tr>\n",
       "      <th>13</th>\n",
       "      <td>14</td>\n",
       "      <td>2012.667</td>\n",
       "      <td>20.4</td>\n",
       "      <td>2469.645</td>\n",
       "      <td>4</td>\n",
       "      <td>24.96108</td>\n",
       "      <td>121.51046</td>\n",
       "      <td>23.8</td>\n",
       "    </tr>\n",
       "    <tr>\n",
       "      <th>92</th>\n",
       "      <td>93</td>\n",
       "      <td>2012.917</td>\n",
       "      <td>20.6</td>\n",
       "      <td>2469.645</td>\n",
       "      <td>4</td>\n",
       "      <td>24.96108</td>\n",
       "      <td>121.51046</td>\n",
       "      <td>21.8</td>\n",
       "    </tr>\n",
       "    <tr>\n",
       "      <th>407</th>\n",
       "      <td>408</td>\n",
       "      <td>2013.000</td>\n",
       "      <td>5.2</td>\n",
       "      <td>2408.993</td>\n",
       "      <td>0</td>\n",
       "      <td>24.95505</td>\n",
       "      <td>121.55964</td>\n",
       "      <td>22.3</td>\n",
       "    </tr>\n",
       "    <tr>\n",
       "      <th>359</th>\n",
       "      <td>360</td>\n",
       "      <td>2013.500</td>\n",
       "      <td>5.6</td>\n",
       "      <td>2408.993</td>\n",
       "      <td>0</td>\n",
       "      <td>24.95505</td>\n",
       "      <td>121.55964</td>\n",
       "      <td>24.7</td>\n",
       "    </tr>\n",
       "    <tr>\n",
       "      <th>261</th>\n",
       "      <td>262</td>\n",
       "      <td>2013.167</td>\n",
       "      <td>16.2</td>\n",
       "      <td>2288.011</td>\n",
       "      <td>3</td>\n",
       "      <td>24.95885</td>\n",
       "      <td>121.51359</td>\n",
       "      <td>24.4</td>\n",
       "    </tr>\n",
       "    <tr>\n",
       "      <th>302</th>\n",
       "      <td>303</td>\n",
       "      <td>2013.500</td>\n",
       "      <td>16.5</td>\n",
       "      <td>2288.011</td>\n",
       "      <td>3</td>\n",
       "      <td>24.95885</td>\n",
       "      <td>121.51359</td>\n",
       "      <td>23.2</td>\n",
       "    </tr>\n",
       "  </tbody>\n",
       "</table>\n",
       "</div>"
      ],
      "text/plain": [
       "      No  X1 transaction date  X2 house age  \\\n",
       "347  348             2013.583          17.4   \n",
       "116  117             2013.000          30.9   \n",
       "249  250             2012.833          18.0   \n",
       "255  256             2013.417          31.5   \n",
       "8      9             2013.500          31.7   \n",
       "48    49             2013.417          24.2   \n",
       "176  177             2012.833          13.9   \n",
       "170  171             2013.333          24.0   \n",
       "30    31             2013.500          25.9   \n",
       "331  332             2013.333          25.6   \n",
       "58    59             2013.500          30.3   \n",
       "49    50             2012.667          29.4   \n",
       "180  181             2012.667          26.9   \n",
       "232  233             2012.917          27.1   \n",
       "320  321             2012.750          13.5   \n",
       "329  330             2013.000          13.6   \n",
       "117  118             2013.000          13.6   \n",
       "394  395             2013.500          32.6   \n",
       "73    74             2013.167          13.8   \n",
       "183  184             2013.500          17.0   \n",
       "409  410             2013.000          13.7   \n",
       "40    41             2013.000          13.6   \n",
       "155  156             2013.167          13.8   \n",
       "298  299             2013.333          16.7   \n",
       "226  227             2013.000          16.5   \n",
       "35    36             2013.500          13.9   \n",
       "231  232             2012.833          16.2   \n",
       "41    42             2013.500          16.8   \n",
       "87    88             2013.583          16.9   \n",
       "162  163             2012.750          16.0   \n",
       "384  385             2012.750          16.1   \n",
       "154  155             2013.500          16.9   \n",
       "189  190             2012.917          16.3   \n",
       "89    90             2013.500          23.0   \n",
       "148  149             2013.500          16.4   \n",
       "194  195             2013.500          15.2   \n",
       "382  383             2013.000          16.3   \n",
       "228  229             2013.417          11.9   \n",
       "344  345             2013.500          34.6   \n",
       "307  308             2012.833          10.3   \n",
       "187  188             2013.000           8.9   \n",
       "83    84             2012.917          25.3   \n",
       "352  353             2012.833          18.4   \n",
       "184  185             2012.750          14.1   \n",
       "13    14             2012.667          20.4   \n",
       "92    93             2012.917          20.6   \n",
       "407  408             2013.000           5.2   \n",
       "359  360             2013.500           5.6   \n",
       "261  262             2013.167          16.2   \n",
       "302  303             2013.500          16.5   \n",
       "\n",
       "     X3 distance to the nearest MRT station  X4 number of convenience stores  \\\n",
       "347                                6488.021                                1   \n",
       "116                                6396.283                                1   \n",
       "249                                6306.153                                1   \n",
       "255                                5512.038                                1   \n",
       "8                                  5512.038                                1   \n",
       "48                                 4605.749                                0   \n",
       "176                                4573.779                                0   \n",
       "170                                4527.687                                0   \n",
       "30                                 4519.690                                0   \n",
       "331                                4519.690                                0   \n",
       "58                                 4510.359                                1   \n",
       "49                                 4510.359                                1   \n",
       "180                                4449.270                                0   \n",
       "232                                4412.765                                1   \n",
       "320                                4197.349                                0   \n",
       "329                                4197.349                                0   \n",
       "117                                4197.349                                0   \n",
       "394                                4136.271                                1   \n",
       "73                                 4082.015                                0   \n",
       "183                                4082.015                                0   \n",
       "409                                4082.015                                0   \n",
       "40                                 4082.015                                0   \n",
       "155                                4082.015                                0   \n",
       "298                                4082.015                                0   \n",
       "226                                4082.015                                0   \n",
       "35                                 4079.418                                0   \n",
       "231                                4074.736                                0   \n",
       "41                                 4066.587                                0   \n",
       "87                                 4066.587                                0   \n",
       "162                                4066.587                                0   \n",
       "384                                4066.587                                0   \n",
       "154                                4066.587                                0   \n",
       "189                                4066.587                                0   \n",
       "89                                 3947.945                                0   \n",
       "148                                3780.590                                0   \n",
       "194                                3771.895                                0   \n",
       "382                                3529.564                                0   \n",
       "228                                3171.329                                0   \n",
       "344                                3085.170                                0   \n",
       "307                                3079.890                                0   \n",
       "187                                3078.176                                0   \n",
       "83                                 2707.392                                3   \n",
       "352                                2674.961                                3   \n",
       "184                                2615.465                                0   \n",
       "13                                 2469.645                                4   \n",
       "92                                 2469.645                                4   \n",
       "407                                2408.993                                0   \n",
       "359                                2408.993                                0   \n",
       "261                                2288.011                                3   \n",
       "302                                2288.011                                3   \n",
       "\n",
       "     X5 latitude  X6 longitude  Y house price of unit area  \n",
       "347     24.95719     121.47353                        11.2  \n",
       "116     24.94375     121.47883                        12.2  \n",
       "249     24.95743     121.47516                        15.0  \n",
       "255     24.95095     121.48458                        17.4  \n",
       "8       24.95095     121.48458                        18.8  \n",
       "48      24.94684     121.49578                        13.4  \n",
       "176     24.94867     121.49507                        19.2  \n",
       "170     24.94741     121.49628                        14.4  \n",
       "30      24.94826     121.49587                        22.1  \n",
       "331     24.94826     121.49587                        15.6  \n",
       "58      24.94925     121.49542                        22.6  \n",
       "49      24.94925     121.49542                        13.2  \n",
       "180     24.94898     121.49621                        15.5  \n",
       "232     24.95032     121.49587                        17.4  \n",
       "320     24.93885     121.50383                        18.6  \n",
       "329     24.93885     121.50383                        19.2  \n",
       "117     24.93885     121.50383                        13.0  \n",
       "394     24.95544     121.49630                        24.7  \n",
       "73      24.94155     121.50381                        20.0  \n",
       "183     24.94155     121.50381                        18.8  \n",
       "409     24.94155     121.50381                        15.4  \n",
       "40      24.94155     121.50381                        15.9  \n",
       "155     24.94155     121.50381                        15.6  \n",
       "298     24.94155     121.50381                        16.7  \n",
       "226     24.94155     121.50381                        12.8  \n",
       "35      25.01459     121.51816                        27.3  \n",
       "231     24.94235     121.50357                        14.7  \n",
       "41      24.94297     121.50342                        18.2  \n",
       "87      24.94297     121.50342                        18.3  \n",
       "162     24.94297     121.50342                        11.6  \n",
       "384     24.94297     121.50342                        12.9  \n",
       "154     24.94297     121.50342                        20.7  \n",
       "189     24.94297     121.50342                        20.5  \n",
       "89      24.94783     121.50243                        25.3  \n",
       "148     24.93293     121.51203                        45.1  \n",
       "194     24.93363     121.51158                        29.3  \n",
       "382     24.93207     121.51597                        29.3  \n",
       "228     25.00115     121.51776                        46.6  \n",
       "344     24.99800     121.51550                        41.2  \n",
       "307     24.95460     121.56627                        24.7  \n",
       "187     24.95464     121.56627                        22.0  \n",
       "83      24.96056     121.50831                        17.7  \n",
       "352     24.96143     121.50827                        25.7  \n",
       "184     24.95495     121.56174                        21.8  \n",
       "13      24.96108     121.51046                        23.8  \n",
       "92      24.96108     121.51046                        21.8  \n",
       "407     24.95505     121.55964                        22.3  \n",
       "359     24.95505     121.55964                        24.7  \n",
       "261     24.95885     121.51359                        24.4  \n",
       "302     24.95885     121.51359                        23.2  "
      ]
     },
     "execution_count": 54,
     "metadata": {},
     "output_type": "execute_result"
    }
   ],
   "source": [
    "df.sort_values('X3 distance to the nearest MRT station',ascending=False).head(50)"
   ]
  },
  {
   "cell_type": "code",
   "execution_count": 55,
   "metadata": {},
   "outputs": [
    {
     "data": {
      "text/plain": [
       "<AxesSubplot:ylabel='Density'>"
      ]
     },
     "execution_count": 55,
     "metadata": {},
     "output_type": "execute_result"
    },
    {
     "data": {
      "image/png": "[encoded data removed]",
      "text/plain": [
       "<Figure size 432x288 with 1 Axes>"
      ]
     },
     "metadata": {
      "needs_background": "light"
     },
     "output_type": "display_data"
    }
   ],
   "source": [
    "df['X3 distance to the nearest MRT station'].plot.density()"
   ]
  },
  {
   "cell_type": "markdown",
   "metadata": {},
   "source": [
    "There are many outliers on the max side, and they are part of a right skew distribution. The distances do not seem to be entered incorrectly, and they don't have a substantially large gap from the rest of the values. Therefore, we should not drop any of the values."
   ]
  },
  {
   "cell_type": "code",
   "execution_count": 31,
   "metadata": {
    "scrolled": true
   },
   "outputs": [
    {
     "data": {
      "text/plain": [
       "<AxesSubplot:xlabel='X4 number of convenience stores'>"
      ]
     },
     "execution_count": 31,
     "metadata": {},
     "output_type": "execute_result"
    },
    {
     "data": {
      "image/png": "[encoded data removed]",
      "text/plain": [
       "<Figure size 432x288 with 1 Axes>"
      ]
     },
     "metadata": {
      "needs_background": "light"
     },
     "output_type": "display_data"
    }
   ],
   "source": [
    "sns.boxplot(x='X4 number of convenience stores',data=df)"
   ]
  },
  {
   "cell_type": "markdown",
   "metadata": {},
   "source": [
    "There are no outliers, so we do not need to do anything."
   ]
  },
  {
   "cell_type": "code",
   "execution_count": 47,
   "metadata": {},
   "outputs": [
    {
     "data": {
      "text/plain": [
       "<AxesSubplot:xlabel='X5 latitude'>"
      ]
     },
     "execution_count": 47,
     "metadata": {},
     "output_type": "execute_result"
    },
    {
     "data": {
      "image/png": "[encoded data removed]",
      "text/plain": [
       "<Figure size 432x288 with 1 Axes>"
      ]
     },
     "metadata": {
      "needs_background": "light"
     },
     "output_type": "display_data"
    }
   ],
   "source": [
    "sns.boxplot(x='X5 latitude',data=df)"
   ]
  },
  {
   "cell_type": "code",
   "execution_count": 56,
   "metadata": {},
   "outputs": [
    {
     "data": {
      "text/plain": [
       "<AxesSubplot:ylabel='Density'>"
      ]
     },
     "execution_count": 56,
     "metadata": {},
     "output_type": "execute_result"
    },
    {
     "data": {
      "image/png": "[encoded data removed]",
      "text/plain": [
       "<Figure size 432x288 with 1 Axes>"
      ]
     },
     "metadata": {
      "needs_background": "light"
     },
     "output_type": "display_data"
    }
   ],
   "source": [
    "df['X5 latitude'].plot.density()"
   ]
  },
  {
   "cell_type": "code",
   "execution_count": 57,
   "metadata": {},
   "outputs": [
    {
     "data": {
      "text/html": [
       "<div>\n",
       "<style scoped>\n",
       "    .dataframe tbody tr th:only-of-type {\n",
       "        vertical-align: middle;\n",
       "    }\n",
       "\n",
       "    .dataframe tbody tr th {\n",
       "        vertical-align: top;\n",
       "    }\n",
       "\n",
       "    .dataframe thead th {\n",
       "        text-align: right;\n",
       "    }\n",
       "</style>\n",
       "<table border=\"1\" class=\"dataframe\">\n",
       "  <thead>\n",
       "    <tr style=\"text-align: right;\">\n",
       "      <th></th>\n",
       "      <th>No</th>\n",
       "      <th>X1 transaction date</th>\n",
       "      <th>X2 house age</th>\n",
       "      <th>X3 distance to the nearest MRT station</th>\n",
       "      <th>X4 number of convenience stores</th>\n",
       "      <th>X5 latitude</th>\n",
       "      <th>X6 longitude</th>\n",
       "      <th>Y house price of unit area</th>\n",
       "    </tr>\n",
       "  </thead>\n",
       "  <tbody>\n",
       "    <tr>\n",
       "      <th>35</th>\n",
       "      <td>36</td>\n",
       "      <td>2013.500</td>\n",
       "      <td>13.9</td>\n",
       "      <td>4079.418</td>\n",
       "      <td>0</td>\n",
       "      <td>25.01459</td>\n",
       "      <td>121.51816</td>\n",
       "      <td>27.3</td>\n",
       "    </tr>\n",
       "    <tr>\n",
       "      <th>228</th>\n",
       "      <td>229</td>\n",
       "      <td>2013.417</td>\n",
       "      <td>11.9</td>\n",
       "      <td>3171.329</td>\n",
       "      <td>0</td>\n",
       "      <td>25.00115</td>\n",
       "      <td>121.51776</td>\n",
       "      <td>46.6</td>\n",
       "    </tr>\n",
       "    <tr>\n",
       "      <th>344</th>\n",
       "      <td>345</td>\n",
       "      <td>2013.500</td>\n",
       "      <td>34.6</td>\n",
       "      <td>3085.170</td>\n",
       "      <td>0</td>\n",
       "      <td>24.99800</td>\n",
       "      <td>121.51550</td>\n",
       "      <td>41.2</td>\n",
       "    </tr>\n",
       "    <tr>\n",
       "      <th>178</th>\n",
       "      <td>179</td>\n",
       "      <td>2013.500</td>\n",
       "      <td>13.1</td>\n",
       "      <td>1144.436</td>\n",
       "      <td>4</td>\n",
       "      <td>24.99176</td>\n",
       "      <td>121.53456</td>\n",
       "      <td>36.7</td>\n",
       "    </tr>\n",
       "    <tr>\n",
       "      <th>296</th>\n",
       "      <td>297</td>\n",
       "      <td>2012.750</td>\n",
       "      <td>12.5</td>\n",
       "      <td>1144.436</td>\n",
       "      <td>4</td>\n",
       "      <td>24.99176</td>\n",
       "      <td>121.53456</td>\n",
       "      <td>34.1</td>\n",
       "    </tr>\n",
       "  </tbody>\n",
       "</table>\n",
       "</div>"
      ],
      "text/plain": [
       "      No  X1 transaction date  X2 house age  \\\n",
       "35    36             2013.500          13.9   \n",
       "228  229             2013.417          11.9   \n",
       "344  345             2013.500          34.6   \n",
       "178  179             2013.500          13.1   \n",
       "296  297             2012.750          12.5   \n",
       "\n",
       "     X3 distance to the nearest MRT station  X4 number of convenience stores  \\\n",
       "35                                 4079.418                                0   \n",
       "228                                3171.329                                0   \n",
       "344                                3085.170                                0   \n",
       "178                                1144.436                                4   \n",
       "296                                1144.436                                4   \n",
       "\n",
       "     X5 latitude  X6 longitude  Y house price of unit area  \n",
       "35      25.01459     121.51816                        27.3  \n",
       "228     25.00115     121.51776                        46.6  \n",
       "344     24.99800     121.51550                        41.2  \n",
       "178     24.99176     121.53456                        36.7  \n",
       "296     24.99176     121.53456                        34.1  "
      ]
     },
     "execution_count": 57,
     "metadata": {},
     "output_type": "execute_result"
    }
   ],
   "source": [
    "df.sort_values('X5 latitude',ascending=False).head(5)"
   ]
  },
  {
   "cell_type": "code",
   "execution_count": 58,
   "metadata": {},
   "outputs": [
    {
     "data": {
      "text/html": [
       "<div>\n",
       "<style scoped>\n",
       "    .dataframe tbody tr th:only-of-type {\n",
       "        vertical-align: middle;\n",
       "    }\n",
       "\n",
       "    .dataframe tbody tr th {\n",
       "        vertical-align: top;\n",
       "    }\n",
       "\n",
       "    .dataframe thead th {\n",
       "        text-align: right;\n",
       "    }\n",
       "</style>\n",
       "<table border=\"1\" class=\"dataframe\">\n",
       "  <thead>\n",
       "    <tr style=\"text-align: right;\">\n",
       "      <th></th>\n",
       "      <th>No</th>\n",
       "      <th>X1 transaction date</th>\n",
       "      <th>X2 house age</th>\n",
       "      <th>X3 distance to the nearest MRT station</th>\n",
       "      <th>X4 number of convenience stores</th>\n",
       "      <th>X5 latitude</th>\n",
       "      <th>X6 longitude</th>\n",
       "      <th>Y house price of unit area</th>\n",
       "    </tr>\n",
       "  </thead>\n",
       "  <tbody>\n",
       "    <tr>\n",
       "      <th>382</th>\n",
       "      <td>383</td>\n",
       "      <td>2013.000</td>\n",
       "      <td>16.3</td>\n",
       "      <td>3529.564</td>\n",
       "      <td>0</td>\n",
       "      <td>24.93207</td>\n",
       "      <td>121.51597</td>\n",
       "      <td>29.3</td>\n",
       "    </tr>\n",
       "    <tr>\n",
       "      <th>148</th>\n",
       "      <td>149</td>\n",
       "      <td>2013.500</td>\n",
       "      <td>16.4</td>\n",
       "      <td>3780.590</td>\n",
       "      <td>0</td>\n",
       "      <td>24.93293</td>\n",
       "      <td>121.51203</td>\n",
       "      <td>45.1</td>\n",
       "    </tr>\n",
       "    <tr>\n",
       "      <th>194</th>\n",
       "      <td>195</td>\n",
       "      <td>2013.500</td>\n",
       "      <td>15.2</td>\n",
       "      <td>3771.895</td>\n",
       "      <td>0</td>\n",
       "      <td>24.93363</td>\n",
       "      <td>121.51158</td>\n",
       "      <td>29.3</td>\n",
       "    </tr>\n",
       "    <tr>\n",
       "      <th>320</th>\n",
       "      <td>321</td>\n",
       "      <td>2012.750</td>\n",
       "      <td>13.5</td>\n",
       "      <td>4197.349</td>\n",
       "      <td>0</td>\n",
       "      <td>24.93885</td>\n",
       "      <td>121.50383</td>\n",
       "      <td>18.6</td>\n",
       "    </tr>\n",
       "    <tr>\n",
       "      <th>117</th>\n",
       "      <td>118</td>\n",
       "      <td>2013.000</td>\n",
       "      <td>13.6</td>\n",
       "      <td>4197.349</td>\n",
       "      <td>0</td>\n",
       "      <td>24.93885</td>\n",
       "      <td>121.50383</td>\n",
       "      <td>13.0</td>\n",
       "    </tr>\n",
       "    <tr>\n",
       "      <th>329</th>\n",
       "      <td>330</td>\n",
       "      <td>2013.000</td>\n",
       "      <td>13.6</td>\n",
       "      <td>4197.349</td>\n",
       "      <td>0</td>\n",
       "      <td>24.93885</td>\n",
       "      <td>121.50383</td>\n",
       "      <td>19.2</td>\n",
       "    </tr>\n",
       "    <tr>\n",
       "      <th>183</th>\n",
       "      <td>184</td>\n",
       "      <td>2013.500</td>\n",
       "      <td>17.0</td>\n",
       "      <td>4082.015</td>\n",
       "      <td>0</td>\n",
       "      <td>24.94155</td>\n",
       "      <td>121.50381</td>\n",
       "      <td>18.8</td>\n",
       "    </tr>\n",
       "    <tr>\n",
       "      <th>298</th>\n",
       "      <td>299</td>\n",
       "      <td>2013.333</td>\n",
       "      <td>16.7</td>\n",
       "      <td>4082.015</td>\n",
       "      <td>0</td>\n",
       "      <td>24.94155</td>\n",
       "      <td>121.50381</td>\n",
       "      <td>16.7</td>\n",
       "    </tr>\n",
       "    <tr>\n",
       "      <th>40</th>\n",
       "      <td>41</td>\n",
       "      <td>2013.000</td>\n",
       "      <td>13.6</td>\n",
       "      <td>4082.015</td>\n",
       "      <td>0</td>\n",
       "      <td>24.94155</td>\n",
       "      <td>121.50381</td>\n",
       "      <td>15.9</td>\n",
       "    </tr>\n",
       "    <tr>\n",
       "      <th>155</th>\n",
       "      <td>156</td>\n",
       "      <td>2013.167</td>\n",
       "      <td>13.8</td>\n",
       "      <td>4082.015</td>\n",
       "      <td>0</td>\n",
       "      <td>24.94155</td>\n",
       "      <td>121.50381</td>\n",
       "      <td>15.6</td>\n",
       "    </tr>\n",
       "    <tr>\n",
       "      <th>226</th>\n",
       "      <td>227</td>\n",
       "      <td>2013.000</td>\n",
       "      <td>16.5</td>\n",
       "      <td>4082.015</td>\n",
       "      <td>0</td>\n",
       "      <td>24.94155</td>\n",
       "      <td>121.50381</td>\n",
       "      <td>12.8</td>\n",
       "    </tr>\n",
       "    <tr>\n",
       "      <th>73</th>\n",
       "      <td>74</td>\n",
       "      <td>2013.167</td>\n",
       "      <td>13.8</td>\n",
       "      <td>4082.015</td>\n",
       "      <td>0</td>\n",
       "      <td>24.94155</td>\n",
       "      <td>121.50381</td>\n",
       "      <td>20.0</td>\n",
       "    </tr>\n",
       "    <tr>\n",
       "      <th>409</th>\n",
       "      <td>410</td>\n",
       "      <td>2013.000</td>\n",
       "      <td>13.7</td>\n",
       "      <td>4082.015</td>\n",
       "      <td>0</td>\n",
       "      <td>24.94155</td>\n",
       "      <td>121.50381</td>\n",
       "      <td>15.4</td>\n",
       "    </tr>\n",
       "    <tr>\n",
       "      <th>231</th>\n",
       "      <td>232</td>\n",
       "      <td>2012.833</td>\n",
       "      <td>16.2</td>\n",
       "      <td>4074.736</td>\n",
       "      <td>0</td>\n",
       "      <td>24.94235</td>\n",
       "      <td>121.50357</td>\n",
       "      <td>14.7</td>\n",
       "    </tr>\n",
       "    <tr>\n",
       "      <th>87</th>\n",
       "      <td>88</td>\n",
       "      <td>2013.583</td>\n",
       "      <td>16.9</td>\n",
       "      <td>4066.587</td>\n",
       "      <td>0</td>\n",
       "      <td>24.94297</td>\n",
       "      <td>121.50342</td>\n",
       "      <td>18.3</td>\n",
       "    </tr>\n",
       "    <tr>\n",
       "      <th>41</th>\n",
       "      <td>42</td>\n",
       "      <td>2013.500</td>\n",
       "      <td>16.8</td>\n",
       "      <td>4066.587</td>\n",
       "      <td>0</td>\n",
       "      <td>24.94297</td>\n",
       "      <td>121.50342</td>\n",
       "      <td>18.2</td>\n",
       "    </tr>\n",
       "    <tr>\n",
       "      <th>162</th>\n",
       "      <td>163</td>\n",
       "      <td>2012.750</td>\n",
       "      <td>16.0</td>\n",
       "      <td>4066.587</td>\n",
       "      <td>0</td>\n",
       "      <td>24.94297</td>\n",
       "      <td>121.50342</td>\n",
       "      <td>11.6</td>\n",
       "    </tr>\n",
       "    <tr>\n",
       "      <th>154</th>\n",
       "      <td>155</td>\n",
       "      <td>2013.500</td>\n",
       "      <td>16.9</td>\n",
       "      <td>4066.587</td>\n",
       "      <td>0</td>\n",
       "      <td>24.94297</td>\n",
       "      <td>121.50342</td>\n",
       "      <td>20.7</td>\n",
       "    </tr>\n",
       "    <tr>\n",
       "      <th>189</th>\n",
       "      <td>190</td>\n",
       "      <td>2012.917</td>\n",
       "      <td>16.3</td>\n",
       "      <td>4066.587</td>\n",
       "      <td>0</td>\n",
       "      <td>24.94297</td>\n",
       "      <td>121.50342</td>\n",
       "      <td>20.5</td>\n",
       "    </tr>\n",
       "    <tr>\n",
       "      <th>384</th>\n",
       "      <td>385</td>\n",
       "      <td>2012.750</td>\n",
       "      <td>16.1</td>\n",
       "      <td>4066.587</td>\n",
       "      <td>0</td>\n",
       "      <td>24.94297</td>\n",
       "      <td>121.50342</td>\n",
       "      <td>12.9</td>\n",
       "    </tr>\n",
       "    <tr>\n",
       "      <th>116</th>\n",
       "      <td>117</td>\n",
       "      <td>2013.000</td>\n",
       "      <td>30.9</td>\n",
       "      <td>6396.283</td>\n",
       "      <td>1</td>\n",
       "      <td>24.94375</td>\n",
       "      <td>121.47883</td>\n",
       "      <td>12.2</td>\n",
       "    </tr>\n",
       "    <tr>\n",
       "      <th>48</th>\n",
       "      <td>49</td>\n",
       "      <td>2013.417</td>\n",
       "      <td>24.2</td>\n",
       "      <td>4605.749</td>\n",
       "      <td>0</td>\n",
       "      <td>24.94684</td>\n",
       "      <td>121.49578</td>\n",
       "      <td>13.4</td>\n",
       "    </tr>\n",
       "    <tr>\n",
       "      <th>170</th>\n",
       "      <td>171</td>\n",
       "      <td>2013.333</td>\n",
       "      <td>24.0</td>\n",
       "      <td>4527.687</td>\n",
       "      <td>0</td>\n",
       "      <td>24.94741</td>\n",
       "      <td>121.49628</td>\n",
       "      <td>14.4</td>\n",
       "    </tr>\n",
       "    <tr>\n",
       "      <th>89</th>\n",
       "      <td>90</td>\n",
       "      <td>2013.500</td>\n",
       "      <td>23.0</td>\n",
       "      <td>3947.945</td>\n",
       "      <td>0</td>\n",
       "      <td>24.94783</td>\n",
       "      <td>121.50243</td>\n",
       "      <td>25.3</td>\n",
       "    </tr>\n",
       "    <tr>\n",
       "      <th>30</th>\n",
       "      <td>31</td>\n",
       "      <td>2013.500</td>\n",
       "      <td>25.9</td>\n",
       "      <td>4519.690</td>\n",
       "      <td>0</td>\n",
       "      <td>24.94826</td>\n",
       "      <td>121.49587</td>\n",
       "      <td>22.1</td>\n",
       "    </tr>\n",
       "  </tbody>\n",
       "</table>\n",
       "</div>"
      ],
      "text/plain": [
       "      No  X1 transaction date  X2 house age  \\\n",
       "382  383             2013.000          16.3   \n",
       "148  149             2013.500          16.4   \n",
       "194  195             2013.500          15.2   \n",
       "320  321             2012.750          13.5   \n",
       "117  118             2013.000          13.6   \n",
       "329  330             2013.000          13.6   \n",
       "183  184             2013.500          17.0   \n",
       "298  299             2013.333          16.7   \n",
       "40    41             2013.000          13.6   \n",
       "155  156             2013.167          13.8   \n",
       "226  227             2013.000          16.5   \n",
       "73    74             2013.167          13.8   \n",
       "409  410             2013.000          13.7   \n",
       "231  232             2012.833          16.2   \n",
       "87    88             2013.583          16.9   \n",
       "41    42             2013.500          16.8   \n",
       "162  163             2012.750          16.0   \n",
       "154  155             2013.500          16.9   \n",
       "189  190             2012.917          16.3   \n",
       "384  385             2012.750          16.1   \n",
       "116  117             2013.000          30.9   \n",
       "48    49             2013.417          24.2   \n",
       "170  171             2013.333          24.0   \n",
       "89    90             2013.500          23.0   \n",
       "30    31             2013.500          25.9   \n",
       "\n",
       "     X3 distance to the nearest MRT station  X4 number of convenience stores  \\\n",
       "382                                3529.564                                0   \n",
       "148                                3780.590                                0   \n",
       "194                                3771.895                                0   \n",
       "320                                4197.349                                0   \n",
       "117                                4197.349                                0   \n",
       "329                                4197.349                                0   \n",
       "183                                4082.015                                0   \n",
       "298                                4082.015                                0   \n",
       "40                                 4082.015                                0   \n",
       "155                                4082.015                                0   \n",
       "226                                4082.015                                0   \n",
       "73                                 4082.015                                0   \n",
       "409                                4082.015                                0   \n",
       "231                                4074.736                                0   \n",
       "87                                 4066.587                                0   \n",
       "41                                 4066.587                                0   \n",
       "162                                4066.587                                0   \n",
       "154                                4066.587                                0   \n",
       "189                                4066.587                                0   \n",
       "384                                4066.587                                0   \n",
       "116                                6396.283                                1   \n",
       "48                                 4605.749                                0   \n",
       "170                                4527.687                                0   \n",
       "89                                 3947.945                                0   \n",
       "30                                 4519.690                                0   \n",
       "\n",
       "     X5 latitude  X6 longitude  Y house price of unit area  \n",
       "382     24.93207     121.51597                        29.3  \n",
       "148     24.93293     121.51203                        45.1  \n",
       "194     24.93363     121.51158                        29.3  \n",
       "320     24.93885     121.50383                        18.6  \n",
       "117     24.93885     121.50383                        13.0  \n",
       "329     24.93885     121.50383                        19.2  \n",
       "183     24.94155     121.50381                        18.8  \n",
       "298     24.94155     121.50381                        16.7  \n",
       "40      24.94155     121.50381                        15.9  \n",
       "155     24.94155     121.50381                        15.6  \n",
       "226     24.94155     121.50381                        12.8  \n",
       "73      24.94155     121.50381                        20.0  \n",
       "409     24.94155     121.50381                        15.4  \n",
       "231     24.94235     121.50357                        14.7  \n",
       "87      24.94297     121.50342                        18.3  \n",
       "41      24.94297     121.50342                        18.2  \n",
       "162     24.94297     121.50342                        11.6  \n",
       "154     24.94297     121.50342                        20.7  \n",
       "189     24.94297     121.50342                        20.5  \n",
       "384     24.94297     121.50342                        12.9  \n",
       "116     24.94375     121.47883                        12.2  \n",
       "48      24.94684     121.49578                        13.4  \n",
       "170     24.94741     121.49628                        14.4  \n",
       "89      24.94783     121.50243                        25.3  \n",
       "30      24.94826     121.49587                        22.1  "
      ]
     },
     "execution_count": 58,
     "metadata": {},
     "output_type": "execute_result"
    }
   ],
   "source": [
    "df.sort_values('X5 latitude').head(25)"
   ]
  },
  {
   "cell_type": "markdown",
   "metadata": {},
   "source": [
    "There are some outliers on both the min and the max side. After checking the values, they appear to be correct. They are not much more or less than other values within the IRQ. They also do not appear to have been entered incorrectly. Therefore, we will keep them."
   ]
  },
  {
   "cell_type": "code",
   "execution_count": 48,
   "metadata": {},
   "outputs": [
    {
     "data": {
      "text/plain": [
       "<AxesSubplot:xlabel='X6 longitude'>"
      ]
     },
     "execution_count": 48,
     "metadata": {},
     "output_type": "execute_result"
    },
    {
     "data": {
      "image/png": "[encoded data removed]",
      "text/plain": [
       "<Figure size 432x288 with 1 Axes>"
      ]
     },
     "metadata": {
      "needs_background": "light"
     },
     "output_type": "display_data"
    }
   ],
   "source": [
    "sns.boxplot(x='X6 longitude',data=df)"
   ]
  },
  {
   "cell_type": "code",
   "execution_count": 60,
   "metadata": {},
   "outputs": [
    {
     "data": {
      "text/plain": [
       "<AxesSubplot:ylabel='Density'>"
      ]
     },
     "execution_count": 60,
     "metadata": {},
     "output_type": "execute_result"
    },
    {
     "data": {
      "image/png": "[encoded data removed]",
      "text/plain": [
       "<Figure size 432x288 with 1 Axes>"
      ]
     },
     "metadata": {
      "needs_background": "light"
     },
     "output_type": "display_data"
    }
   ],
   "source": [
    "df['X6 longitude'].plot.density()"
   ]
  },
  {
   "cell_type": "code",
   "execution_count": 61,
   "metadata": {},
   "outputs": [
    {
     "data": {
      "text/html": [
       "<div>\n",
       "<style scoped>\n",
       "    .dataframe tbody tr th:only-of-type {\n",
       "        vertical-align: middle;\n",
       "    }\n",
       "\n",
       "    .dataframe tbody tr th {\n",
       "        vertical-align: top;\n",
       "    }\n",
       "\n",
       "    .dataframe thead th {\n",
       "        text-align: right;\n",
       "    }\n",
       "</style>\n",
       "<table border=\"1\" class=\"dataframe\">\n",
       "  <thead>\n",
       "    <tr style=\"text-align: right;\">\n",
       "      <th></th>\n",
       "      <th>No</th>\n",
       "      <th>X1 transaction date</th>\n",
       "      <th>X2 house age</th>\n",
       "      <th>X3 distance to the nearest MRT station</th>\n",
       "      <th>X4 number of convenience stores</th>\n",
       "      <th>X5 latitude</th>\n",
       "      <th>X6 longitude</th>\n",
       "      <th>Y house price of unit area</th>\n",
       "    </tr>\n",
       "  </thead>\n",
       "  <tbody>\n",
       "    <tr>\n",
       "      <th>307</th>\n",
       "      <td>308</td>\n",
       "      <td>2012.833</td>\n",
       "      <td>10.3</td>\n",
       "      <td>3079.890</td>\n",
       "      <td>0</td>\n",
       "      <td>24.95460</td>\n",
       "      <td>121.56627</td>\n",
       "      <td>24.7</td>\n",
       "    </tr>\n",
       "    <tr>\n",
       "      <th>187</th>\n",
       "      <td>188</td>\n",
       "      <td>2013.000</td>\n",
       "      <td>8.9</td>\n",
       "      <td>3078.176</td>\n",
       "      <td>0</td>\n",
       "      <td>24.95464</td>\n",
       "      <td>121.56627</td>\n",
       "      <td>22.0</td>\n",
       "    </tr>\n",
       "    <tr>\n",
       "      <th>184</th>\n",
       "      <td>185</td>\n",
       "      <td>2012.750</td>\n",
       "      <td>14.1</td>\n",
       "      <td>2615.465</td>\n",
       "      <td>0</td>\n",
       "      <td>24.95495</td>\n",
       "      <td>121.56174</td>\n",
       "      <td>21.8</td>\n",
       "    </tr>\n",
       "    <tr>\n",
       "      <th>407</th>\n",
       "      <td>408</td>\n",
       "      <td>2013.000</td>\n",
       "      <td>5.2</td>\n",
       "      <td>2408.993</td>\n",
       "      <td>0</td>\n",
       "      <td>24.95505</td>\n",
       "      <td>121.55964</td>\n",
       "      <td>22.3</td>\n",
       "    </tr>\n",
       "    <tr>\n",
       "      <th>359</th>\n",
       "      <td>360</td>\n",
       "      <td>2013.500</td>\n",
       "      <td>5.6</td>\n",
       "      <td>2408.993</td>\n",
       "      <td>0</td>\n",
       "      <td>24.95505</td>\n",
       "      <td>121.55964</td>\n",
       "      <td>24.7</td>\n",
       "    </tr>\n",
       "  </tbody>\n",
       "</table>\n",
       "</div>"
      ],
      "text/plain": [
       "      No  X1 transaction date  X2 house age  \\\n",
       "307  308             2012.833          10.3   \n",
       "187  188             2013.000           8.9   \n",
       "184  185             2012.750          14.1   \n",
       "407  408             2013.000           5.2   \n",
       "359  360             2013.500           5.6   \n",
       "\n",
       "     X3 distance to the nearest MRT station  X4 number of convenience stores  \\\n",
       "307                                3079.890                                0   \n",
       "187                                3078.176                                0   \n",
       "184                                2615.465                                0   \n",
       "407                                2408.993                                0   \n",
       "359                                2408.993                                0   \n",
       "\n",
       "     X5 latitude  X6 longitude  Y house price of unit area  \n",
       "307     24.95460     121.56627                        24.7  \n",
       "187     24.95464     121.56627                        22.0  \n",
       "184     24.95495     121.56174                        21.8  \n",
       "407     24.95505     121.55964                        22.3  \n",
       "359     24.95505     121.55964                        24.7  "
      ]
     },
     "execution_count": 61,
     "metadata": {},
     "output_type": "execute_result"
    }
   ],
   "source": [
    "df.sort_values('X6 longitude',ascending=False).head(5)"
   ]
  },
  {
   "cell_type": "code",
   "execution_count": 62,
   "metadata": {
    "collapsed": true
   },
   "outputs": [
    {
     "data": {
      "text/html": [
       "<div>\n",
       "<style scoped>\n",
       "    .dataframe tbody tr th:only-of-type {\n",
       "        vertical-align: middle;\n",
       "    }\n",
       "\n",
       "    .dataframe tbody tr th {\n",
       "        vertical-align: top;\n",
       "    }\n",
       "\n",
       "    .dataframe thead th {\n",
       "        text-align: right;\n",
       "    }\n",
       "</style>\n",
       "<table border=\"1\" class=\"dataframe\">\n",
       "  <thead>\n",
       "    <tr style=\"text-align: right;\">\n",
       "      <th></th>\n",
       "      <th>No</th>\n",
       "      <th>X1 transaction date</th>\n",
       "      <th>X2 house age</th>\n",
       "      <th>X3 distance to the nearest MRT station</th>\n",
       "      <th>X4 number of convenience stores</th>\n",
       "      <th>X5 latitude</th>\n",
       "      <th>X6 longitude</th>\n",
       "      <th>Y house price of unit area</th>\n",
       "    </tr>\n",
       "  </thead>\n",
       "  <tbody>\n",
       "    <tr>\n",
       "      <th>347</th>\n",
       "      <td>348</td>\n",
       "      <td>2013.583</td>\n",
       "      <td>17.4</td>\n",
       "      <td>6488.021</td>\n",
       "      <td>1</td>\n",
       "      <td>24.95719</td>\n",
       "      <td>121.47353</td>\n",
       "      <td>11.2</td>\n",
       "    </tr>\n",
       "    <tr>\n",
       "      <th>249</th>\n",
       "      <td>250</td>\n",
       "      <td>2012.833</td>\n",
       "      <td>18.0</td>\n",
       "      <td>6306.153</td>\n",
       "      <td>1</td>\n",
       "      <td>24.95743</td>\n",
       "      <td>121.47516</td>\n",
       "      <td>15.0</td>\n",
       "    </tr>\n",
       "    <tr>\n",
       "      <th>116</th>\n",
       "      <td>117</td>\n",
       "      <td>2013.000</td>\n",
       "      <td>30.9</td>\n",
       "      <td>6396.283</td>\n",
       "      <td>1</td>\n",
       "      <td>24.94375</td>\n",
       "      <td>121.47883</td>\n",
       "      <td>12.2</td>\n",
       "    </tr>\n",
       "    <tr>\n",
       "      <th>255</th>\n",
       "      <td>256</td>\n",
       "      <td>2013.417</td>\n",
       "      <td>31.5</td>\n",
       "      <td>5512.038</td>\n",
       "      <td>1</td>\n",
       "      <td>24.95095</td>\n",
       "      <td>121.48458</td>\n",
       "      <td>17.4</td>\n",
       "    </tr>\n",
       "    <tr>\n",
       "      <th>8</th>\n",
       "      <td>9</td>\n",
       "      <td>2013.500</td>\n",
       "      <td>31.7</td>\n",
       "      <td>5512.038</td>\n",
       "      <td>1</td>\n",
       "      <td>24.95095</td>\n",
       "      <td>121.48458</td>\n",
       "      <td>18.8</td>\n",
       "    </tr>\n",
       "    <tr>\n",
       "      <th>176</th>\n",
       "      <td>177</td>\n",
       "      <td>2012.833</td>\n",
       "      <td>13.9</td>\n",
       "      <td>4573.779</td>\n",
       "      <td>0</td>\n",
       "      <td>24.94867</td>\n",
       "      <td>121.49507</td>\n",
       "      <td>19.2</td>\n",
       "    </tr>\n",
       "    <tr>\n",
       "      <th>49</th>\n",
       "      <td>50</td>\n",
       "      <td>2012.667</td>\n",
       "      <td>29.4</td>\n",
       "      <td>4510.359</td>\n",
       "      <td>1</td>\n",
       "      <td>24.94925</td>\n",
       "      <td>121.49542</td>\n",
       "      <td>13.2</td>\n",
       "    </tr>\n",
       "    <tr>\n",
       "      <th>58</th>\n",
       "      <td>59</td>\n",
       "      <td>2013.500</td>\n",
       "      <td>30.3</td>\n",
       "      <td>4510.359</td>\n",
       "      <td>1</td>\n",
       "      <td>24.94925</td>\n",
       "      <td>121.49542</td>\n",
       "      <td>22.6</td>\n",
       "    </tr>\n",
       "    <tr>\n",
       "      <th>48</th>\n",
       "      <td>49</td>\n",
       "      <td>2013.417</td>\n",
       "      <td>24.2</td>\n",
       "      <td>4605.749</td>\n",
       "      <td>0</td>\n",
       "      <td>24.94684</td>\n",
       "      <td>121.49578</td>\n",
       "      <td>13.4</td>\n",
       "    </tr>\n",
       "    <tr>\n",
       "      <th>232</th>\n",
       "      <td>233</td>\n",
       "      <td>2012.917</td>\n",
       "      <td>27.1</td>\n",
       "      <td>4412.765</td>\n",
       "      <td>1</td>\n",
       "      <td>24.95032</td>\n",
       "      <td>121.49587</td>\n",
       "      <td>17.4</td>\n",
       "    </tr>\n",
       "    <tr>\n",
       "      <th>30</th>\n",
       "      <td>31</td>\n",
       "      <td>2013.500</td>\n",
       "      <td>25.9</td>\n",
       "      <td>4519.690</td>\n",
       "      <td>0</td>\n",
       "      <td>24.94826</td>\n",
       "      <td>121.49587</td>\n",
       "      <td>22.1</td>\n",
       "    </tr>\n",
       "    <tr>\n",
       "      <th>331</th>\n",
       "      <td>332</td>\n",
       "      <td>2013.333</td>\n",
       "      <td>25.6</td>\n",
       "      <td>4519.690</td>\n",
       "      <td>0</td>\n",
       "      <td>24.94826</td>\n",
       "      <td>121.49587</td>\n",
       "      <td>15.6</td>\n",
       "    </tr>\n",
       "    <tr>\n",
       "      <th>180</th>\n",
       "      <td>181</td>\n",
       "      <td>2012.667</td>\n",
       "      <td>26.9</td>\n",
       "      <td>4449.270</td>\n",
       "      <td>0</td>\n",
       "      <td>24.94898</td>\n",
       "      <td>121.49621</td>\n",
       "      <td>15.5</td>\n",
       "    </tr>\n",
       "    <tr>\n",
       "      <th>170</th>\n",
       "      <td>171</td>\n",
       "      <td>2013.333</td>\n",
       "      <td>24.0</td>\n",
       "      <td>4527.687</td>\n",
       "      <td>0</td>\n",
       "      <td>24.94741</td>\n",
       "      <td>121.49628</td>\n",
       "      <td>14.4</td>\n",
       "    </tr>\n",
       "    <tr>\n",
       "      <th>394</th>\n",
       "      <td>395</td>\n",
       "      <td>2013.500</td>\n",
       "      <td>32.6</td>\n",
       "      <td>4136.271</td>\n",
       "      <td>1</td>\n",
       "      <td>24.95544</td>\n",
       "      <td>121.49630</td>\n",
       "      <td>24.7</td>\n",
       "    </tr>\n",
       "    <tr>\n",
       "      <th>89</th>\n",
       "      <td>90</td>\n",
       "      <td>2013.500</td>\n",
       "      <td>23.0</td>\n",
       "      <td>3947.945</td>\n",
       "      <td>0</td>\n",
       "      <td>24.94783</td>\n",
       "      <td>121.50243</td>\n",
       "      <td>25.3</td>\n",
       "    </tr>\n",
       "    <tr>\n",
       "      <th>189</th>\n",
       "      <td>190</td>\n",
       "      <td>2012.917</td>\n",
       "      <td>16.3</td>\n",
       "      <td>4066.587</td>\n",
       "      <td>0</td>\n",
       "      <td>24.94297</td>\n",
       "      <td>121.50342</td>\n",
       "      <td>20.5</td>\n",
       "    </tr>\n",
       "    <tr>\n",
       "      <th>41</th>\n",
       "      <td>42</td>\n",
       "      <td>2013.500</td>\n",
       "      <td>16.8</td>\n",
       "      <td>4066.587</td>\n",
       "      <td>0</td>\n",
       "      <td>24.94297</td>\n",
       "      <td>121.50342</td>\n",
       "      <td>18.2</td>\n",
       "    </tr>\n",
       "    <tr>\n",
       "      <th>154</th>\n",
       "      <td>155</td>\n",
       "      <td>2013.500</td>\n",
       "      <td>16.9</td>\n",
       "      <td>4066.587</td>\n",
       "      <td>0</td>\n",
       "      <td>24.94297</td>\n",
       "      <td>121.50342</td>\n",
       "      <td>20.7</td>\n",
       "    </tr>\n",
       "    <tr>\n",
       "      <th>384</th>\n",
       "      <td>385</td>\n",
       "      <td>2012.750</td>\n",
       "      <td>16.1</td>\n",
       "      <td>4066.587</td>\n",
       "      <td>0</td>\n",
       "      <td>24.94297</td>\n",
       "      <td>121.50342</td>\n",
       "      <td>12.9</td>\n",
       "    </tr>\n",
       "    <tr>\n",
       "      <th>87</th>\n",
       "      <td>88</td>\n",
       "      <td>2013.583</td>\n",
       "      <td>16.9</td>\n",
       "      <td>4066.587</td>\n",
       "      <td>0</td>\n",
       "      <td>24.94297</td>\n",
       "      <td>121.50342</td>\n",
       "      <td>18.3</td>\n",
       "    </tr>\n",
       "    <tr>\n",
       "      <th>162</th>\n",
       "      <td>163</td>\n",
       "      <td>2012.750</td>\n",
       "      <td>16.0</td>\n",
       "      <td>4066.587</td>\n",
       "      <td>0</td>\n",
       "      <td>24.94297</td>\n",
       "      <td>121.50342</td>\n",
       "      <td>11.6</td>\n",
       "    </tr>\n",
       "    <tr>\n",
       "      <th>231</th>\n",
       "      <td>232</td>\n",
       "      <td>2012.833</td>\n",
       "      <td>16.2</td>\n",
       "      <td>4074.736</td>\n",
       "      <td>0</td>\n",
       "      <td>24.94235</td>\n",
       "      <td>121.50357</td>\n",
       "      <td>14.7</td>\n",
       "    </tr>\n",
       "    <tr>\n",
       "      <th>155</th>\n",
       "      <td>156</td>\n",
       "      <td>2013.167</td>\n",
       "      <td>13.8</td>\n",
       "      <td>4082.015</td>\n",
       "      <td>0</td>\n",
       "      <td>24.94155</td>\n",
       "      <td>121.50381</td>\n",
       "      <td>15.6</td>\n",
       "    </tr>\n",
       "    <tr>\n",
       "      <th>40</th>\n",
       "      <td>41</td>\n",
       "      <td>2013.000</td>\n",
       "      <td>13.6</td>\n",
       "      <td>4082.015</td>\n",
       "      <td>0</td>\n",
       "      <td>24.94155</td>\n",
       "      <td>121.50381</td>\n",
       "      <td>15.9</td>\n",
       "    </tr>\n",
       "  </tbody>\n",
       "</table>\n",
       "</div>"
      ],
      "text/plain": [
       "      No  X1 transaction date  X2 house age  \\\n",
       "347  348             2013.583          17.4   \n",
       "249  250             2012.833          18.0   \n",
       "116  117             2013.000          30.9   \n",
       "255  256             2013.417          31.5   \n",
       "8      9             2013.500          31.7   \n",
       "176  177             2012.833          13.9   \n",
       "49    50             2012.667          29.4   \n",
       "58    59             2013.500          30.3   \n",
       "48    49             2013.417          24.2   \n",
       "232  233             2012.917          27.1   \n",
       "30    31             2013.500          25.9   \n",
       "331  332             2013.333          25.6   \n",
       "180  181             2012.667          26.9   \n",
       "170  171             2013.333          24.0   \n",
       "394  395             2013.500          32.6   \n",
       "89    90             2013.500          23.0   \n",
       "189  190             2012.917          16.3   \n",
       "41    42             2013.500          16.8   \n",
       "154  155             2013.500          16.9   \n",
       "384  385             2012.750          16.1   \n",
       "87    88             2013.583          16.9   \n",
       "162  163             2012.750          16.0   \n",
       "231  232             2012.833          16.2   \n",
       "155  156             2013.167          13.8   \n",
       "40    41             2013.000          13.6   \n",
       "\n",
       "     X3 distance to the nearest MRT station  X4 number of convenience stores  \\\n",
       "347                                6488.021                                1   \n",
       "249                                6306.153                                1   \n",
       "116                                6396.283                                1   \n",
       "255                                5512.038                                1   \n",
       "8                                  5512.038                                1   \n",
       "176                                4573.779                                0   \n",
       "49                                 4510.359                                1   \n",
       "58                                 4510.359                                1   \n",
       "48                                 4605.749                                0   \n",
       "232                                4412.765                                1   \n",
       "30                                 4519.690                                0   \n",
       "331                                4519.690                                0   \n",
       "180                                4449.270                                0   \n",
       "170                                4527.687                                0   \n",
       "394                                4136.271                                1   \n",
       "89                                 3947.945                                0   \n",
       "189                                4066.587                                0   \n",
       "41                                 4066.587                                0   \n",
       "154                                4066.587                                0   \n",
       "384                                4066.587                                0   \n",
       "87                                 4066.587                                0   \n",
       "162                                4066.587                                0   \n",
       "231                                4074.736                                0   \n",
       "155                                4082.015                                0   \n",
       "40                                 4082.015                                0   \n",
       "\n",
       "     X5 latitude  X6 longitude  Y house price of unit area  \n",
       "347     24.95719     121.47353                        11.2  \n",
       "249     24.95743     121.47516                        15.0  \n",
       "116     24.94375     121.47883                        12.2  \n",
       "255     24.95095     121.48458                        17.4  \n",
       "8       24.95095     121.48458                        18.8  \n",
       "176     24.94867     121.49507                        19.2  \n",
       "49      24.94925     121.49542                        13.2  \n",
       "58      24.94925     121.49542                        22.6  \n",
       "48      24.94684     121.49578                        13.4  \n",
       "232     24.95032     121.49587                        17.4  \n",
       "30      24.94826     121.49587                        22.1  \n",
       "331     24.94826     121.49587                        15.6  \n",
       "180     24.94898     121.49621                        15.5  \n",
       "170     24.94741     121.49628                        14.4  \n",
       "394     24.95544     121.49630                        24.7  \n",
       "89      24.94783     121.50243                        25.3  \n",
       "189     24.94297     121.50342                        20.5  \n",
       "41      24.94297     121.50342                        18.2  \n",
       "154     24.94297     121.50342                        20.7  \n",
       "384     24.94297     121.50342                        12.9  \n",
       "87      24.94297     121.50342                        18.3  \n",
       "162     24.94297     121.50342                        11.6  \n",
       "231     24.94235     121.50357                        14.7  \n",
       "155     24.94155     121.50381                        15.6  \n",
       "40      24.94155     121.50381                        15.9  "
      ]
     },
     "execution_count": 62,
     "metadata": {},
     "output_type": "execute_result"
    }
   ],
   "source": [
    "df.sort_values('X6 longitude').head(25)"
   ]
  },
  {
   "cell_type": "markdown",
   "metadata": {},
   "source": [
    "There are some outliers on both the min and max side for X6 longitude. After checking the values, they do not appear to have been entered incorrectly. They are not far off from other values either. Therefore, we will keep the outlier values."
   ]
  },
  {
   "cell_type": "code",
   "execution_count": 45,
   "metadata": {},
   "outputs": [
    {
     "data": {
      "text/plain": [
       "<AxesSubplot:xlabel='Y house price of unit area'>"
      ]
     },
     "execution_count": 45,
     "metadata": {},
     "output_type": "execute_result"
    },
    {
     "data": {
      "image/png": "[encoded data removed]",
      "text/plain": [
       "<Figure size 432x288 with 1 Axes>"
      ]
     },
     "metadata": {
      "needs_background": "light"
     },
     "output_type": "display_data"
    }
   ],
   "source": [
    "sns.boxplot(x='Y house price of unit area',data=df)"
   ]
  },
  {
   "cell_type": "code",
   "execution_count": 63,
   "metadata": {
    "scrolled": true
   },
   "outputs": [
    {
     "data": {
      "text/html": [
       "<div>\n",
       "<style scoped>\n",
       "    .dataframe tbody tr th:only-of-type {\n",
       "        vertical-align: middle;\n",
       "    }\n",
       "\n",
       "    .dataframe tbody tr th {\n",
       "        vertical-align: top;\n",
       "    }\n",
       "\n",
       "    .dataframe thead th {\n",
       "        text-align: right;\n",
       "    }\n",
       "</style>\n",
       "<table border=\"1\" class=\"dataframe\">\n",
       "  <thead>\n",
       "    <tr style=\"text-align: right;\">\n",
       "      <th></th>\n",
       "      <th>No</th>\n",
       "      <th>X1 transaction date</th>\n",
       "      <th>X2 house age</th>\n",
       "      <th>X3 distance to the nearest MRT station</th>\n",
       "      <th>X4 number of convenience stores</th>\n",
       "      <th>X5 latitude</th>\n",
       "      <th>X6 longitude</th>\n",
       "      <th>Y house price of unit area</th>\n",
       "    </tr>\n",
       "  </thead>\n",
       "  <tbody>\n",
       "    <tr>\n",
       "      <th>270</th>\n",
       "      <td>271</td>\n",
       "      <td>2013.333</td>\n",
       "      <td>10.8</td>\n",
       "      <td>252.5822</td>\n",
       "      <td>1</td>\n",
       "      <td>24.97460</td>\n",
       "      <td>121.53046</td>\n",
       "      <td>117.5</td>\n",
       "    </tr>\n",
       "    <tr>\n",
       "      <th>220</th>\n",
       "      <td>221</td>\n",
       "      <td>2013.333</td>\n",
       "      <td>37.2</td>\n",
       "      <td>186.5101</td>\n",
       "      <td>9</td>\n",
       "      <td>24.97703</td>\n",
       "      <td>121.54265</td>\n",
       "      <td>78.3</td>\n",
       "    </tr>\n",
       "    <tr>\n",
       "      <th>312</th>\n",
       "      <td>313</td>\n",
       "      <td>2013.583</td>\n",
       "      <td>35.4</td>\n",
       "      <td>318.5292</td>\n",
       "      <td>9</td>\n",
       "      <td>24.97071</td>\n",
       "      <td>121.54069</td>\n",
       "      <td>78.0</td>\n",
       "    </tr>\n",
       "    <tr>\n",
       "      <th>166</th>\n",
       "      <td>167</td>\n",
       "      <td>2013.417</td>\n",
       "      <td>0.0</td>\n",
       "      <td>292.9978</td>\n",
       "      <td>6</td>\n",
       "      <td>24.97744</td>\n",
       "      <td>121.54458</td>\n",
       "      <td>73.6</td>\n",
       "    </tr>\n",
       "    <tr>\n",
       "      <th>105</th>\n",
       "      <td>106</td>\n",
       "      <td>2012.833</td>\n",
       "      <td>0.0</td>\n",
       "      <td>292.9978</td>\n",
       "      <td>6</td>\n",
       "      <td>24.97744</td>\n",
       "      <td>121.54458</td>\n",
       "      <td>71.0</td>\n",
       "    </tr>\n",
       "  </tbody>\n",
       "</table>\n",
       "</div>"
      ],
      "text/plain": [
       "      No  X1 transaction date  X2 house age  \\\n",
       "270  271             2013.333          10.8   \n",
       "220  221             2013.333          37.2   \n",
       "312  313             2013.583          35.4   \n",
       "166  167             2013.417           0.0   \n",
       "105  106             2012.833           0.0   \n",
       "\n",
       "     X3 distance to the nearest MRT station  X4 number of convenience stores  \\\n",
       "270                                252.5822                                1   \n",
       "220                                186.5101                                9   \n",
       "312                                318.5292                                9   \n",
       "166                                292.9978                                6   \n",
       "105                                292.9978                                6   \n",
       "\n",
       "     X5 latitude  X6 longitude  Y house price of unit area  \n",
       "270     24.97460     121.53046                       117.5  \n",
       "220     24.97703     121.54265                        78.3  \n",
       "312     24.97071     121.54069                        78.0  \n",
       "166     24.97744     121.54458                        73.6  \n",
       "105     24.97744     121.54458                        71.0  "
      ]
     },
     "execution_count": 63,
     "metadata": {},
     "output_type": "execute_result"
    }
   ],
   "source": [
    "df.sort_values('Y house price of unit area',ascending=False).head(5)"
   ]
  },
  {
   "cell_type": "markdown",
   "metadata": {},
   "source": [
    "The values are reasonable and likely not entered incorrectly as one house could be considerably more valubale than others. Also, 117.5 thousand is not too high of a price for it to be considered an error, and therefore, we will not be getting rid of any of the outliers."
   ]
  },
  {
   "cell_type": "markdown",
   "metadata": {},
   "source": [
    "# Scale and Transform"
   ]
  },
  {
   "cell_type": "code",
   "execution_count": 76,
   "metadata": {},
   "outputs": [
    {
     "data": {
      "text/html": [
       "<div>\n",
       "<style scoped>\n",
       "    .dataframe tbody tr th:only-of-type {\n",
       "        vertical-align: middle;\n",
       "    }\n",
       "\n",
       "    .dataframe tbody tr th {\n",
       "        vertical-align: top;\n",
       "    }\n",
       "\n",
       "    .dataframe thead th {\n",
       "        text-align: right;\n",
       "    }\n",
       "</style>\n",
       "<table border=\"1\" class=\"dataframe\">\n",
       "  <thead>\n",
       "    <tr style=\"text-align: right;\">\n",
       "      <th></th>\n",
       "      <th>No</th>\n",
       "      <th>X1 transaction date</th>\n",
       "      <th>X2 house age</th>\n",
       "      <th>X3 distance to the nearest MRT station</th>\n",
       "      <th>X4 number of convenience stores</th>\n",
       "      <th>X5 latitude</th>\n",
       "      <th>X6 longitude</th>\n",
       "      <th>Y house price of unit area</th>\n",
       "    </tr>\n",
       "  </thead>\n",
       "  <tbody>\n",
       "    <tr>\n",
       "      <th>count</th>\n",
       "      <td>414.000000</td>\n",
       "      <td>414.000000</td>\n",
       "      <td>414.000000</td>\n",
       "      <td>414.000000</td>\n",
       "      <td>414.000000</td>\n",
       "      <td>414.000000</td>\n",
       "      <td>414.000000</td>\n",
       "      <td>414.000000</td>\n",
       "    </tr>\n",
       "    <tr>\n",
       "      <th>mean</th>\n",
       "      <td>207.500000</td>\n",
       "      <td>2013.148971</td>\n",
       "      <td>17.712560</td>\n",
       "      <td>1083.885689</td>\n",
       "      <td>4.094203</td>\n",
       "      <td>24.969030</td>\n",
       "      <td>121.533361</td>\n",
       "      <td>37.980193</td>\n",
       "    </tr>\n",
       "    <tr>\n",
       "      <th>std</th>\n",
       "      <td>119.655756</td>\n",
       "      <td>0.281967</td>\n",
       "      <td>11.392485</td>\n",
       "      <td>1262.109595</td>\n",
       "      <td>2.945562</td>\n",
       "      <td>0.012410</td>\n",
       "      <td>0.015347</td>\n",
       "      <td>13.606488</td>\n",
       "    </tr>\n",
       "    <tr>\n",
       "      <th>min</th>\n",
       "      <td>1.000000</td>\n",
       "      <td>2012.667000</td>\n",
       "      <td>0.000000</td>\n",
       "      <td>23.382840</td>\n",
       "      <td>0.000000</td>\n",
       "      <td>24.932070</td>\n",
       "      <td>121.473530</td>\n",
       "      <td>7.600000</td>\n",
       "    </tr>\n",
       "    <tr>\n",
       "      <th>25%</th>\n",
       "      <td>104.250000</td>\n",
       "      <td>2012.917000</td>\n",
       "      <td>9.025000</td>\n",
       "      <td>289.324800</td>\n",
       "      <td>1.000000</td>\n",
       "      <td>24.963000</td>\n",
       "      <td>121.528085</td>\n",
       "      <td>27.700000</td>\n",
       "    </tr>\n",
       "    <tr>\n",
       "      <th>50%</th>\n",
       "      <td>207.500000</td>\n",
       "      <td>2013.167000</td>\n",
       "      <td>16.100000</td>\n",
       "      <td>492.231300</td>\n",
       "      <td>4.000000</td>\n",
       "      <td>24.971100</td>\n",
       "      <td>121.538630</td>\n",
       "      <td>38.450000</td>\n",
       "    </tr>\n",
       "    <tr>\n",
       "      <th>75%</th>\n",
       "      <td>310.750000</td>\n",
       "      <td>2013.417000</td>\n",
       "      <td>28.150000</td>\n",
       "      <td>1454.279000</td>\n",
       "      <td>6.000000</td>\n",
       "      <td>24.977455</td>\n",
       "      <td>121.543305</td>\n",
       "      <td>46.600000</td>\n",
       "    </tr>\n",
       "    <tr>\n",
       "      <th>max</th>\n",
       "      <td>414.000000</td>\n",
       "      <td>2013.583000</td>\n",
       "      <td>43.800000</td>\n",
       "      <td>6488.021000</td>\n",
       "      <td>10.000000</td>\n",
       "      <td>25.014590</td>\n",
       "      <td>121.566270</td>\n",
       "      <td>117.500000</td>\n",
       "    </tr>\n",
       "  </tbody>\n",
       "</table>\n",
       "</div>"
      ],
      "text/plain": [
       "               No  X1 transaction date  X2 house age  \\\n",
       "count  414.000000           414.000000    414.000000   \n",
       "mean   207.500000          2013.148971     17.712560   \n",
       "std    119.655756             0.281967     11.392485   \n",
       "min      1.000000          2012.667000      0.000000   \n",
       "25%    104.250000          2012.917000      9.025000   \n",
       "50%    207.500000          2013.167000     16.100000   \n",
       "75%    310.750000          2013.417000     28.150000   \n",
       "max    414.000000          2013.583000     43.800000   \n",
       "\n",
       "       X3 distance to the nearest MRT station  \\\n",
       "count                              414.000000   \n",
       "mean                              1083.885689   \n",
       "std                               1262.109595   \n",
       "min                                 23.382840   \n",
       "25%                                289.324800   \n",
       "50%                                492.231300   \n",
       "75%                               1454.279000   \n",
       "max                               6488.021000   \n",
       "\n",
       "       X4 number of convenience stores  X5 latitude  X6 longitude  \\\n",
       "count                       414.000000   414.000000    414.000000   \n",
       "mean                          4.094203    24.969030    121.533361   \n",
       "std                           2.945562     0.012410      0.015347   \n",
       "min                           0.000000    24.932070    121.473530   \n",
       "25%                           1.000000    24.963000    121.528085   \n",
       "50%                           4.000000    24.971100    121.538630   \n",
       "75%                           6.000000    24.977455    121.543305   \n",
       "max                          10.000000    25.014590    121.566270   \n",
       "\n",
       "       Y house price of unit area  \n",
       "count                  414.000000  \n",
       "mean                    37.980193  \n",
       "std                     13.606488  \n",
       "min                      7.600000  \n",
       "25%                     27.700000  \n",
       "50%                     38.450000  \n",
       "75%                     46.600000  \n",
       "max                    117.500000  "
      ]
     },
     "execution_count": 76,
     "metadata": {},
     "output_type": "execute_result"
    }
   ],
   "source": [
    "df.describe()"
   ]
  },
  {
   "cell_type": "markdown",
   "metadata": {},
   "source": [
    "age, distance, lat, long, price"
   ]
  },
  {
   "cell_type": "code",
   "execution_count": 74,
   "metadata": {},
   "outputs": [
    {
     "data": {
      "text/plain": [
       "<AxesSubplot:ylabel='Density'>"
      ]
     },
     "execution_count": 74,
     "metadata": {},
     "output_type": "execute_result"
    },
    {
     "data": {
      "image/png": "[encoded data removed]",
      "text/plain": [
       "<Figure size 432x288 with 1 Axes>"
      ]
     },
     "metadata": {
      "needs_background": "light"
     },
     "output_type": "display_data"
    }
   ],
   "source": [
    "#not sure if this is continuous\n",
    "\n",
    "df['X1 transaction date'].plot.density()"
   ]
  },
  {
   "cell_type": "code",
   "execution_count": 72,
   "metadata": {
    "scrolled": true
   },
   "outputs": [
    {
     "data": {
      "text/plain": [
       "<AxesSubplot:ylabel='Density'>"
      ]
     },
     "execution_count": 72,
     "metadata": {},
     "output_type": "execute_result"
    },
    {
     "data": {
      "image/png": "[encoded data removed]",
      "text/plain": [
       "<Figure size 432x288 with 1 Axes>"
      ]
     },
     "metadata": {
      "needs_background": "light"
     },
     "output_type": "display_data"
    }
   ],
   "source": [
    "df['X2 house age'].plot.density()"
   ]
  },
  {
   "cell_type": "markdown",
   "metadata": {},
   "source": [
    "There are no large values that would dominate the data, and the distribution is fairly normal. Therefore, we do not need to scale or transform this column."
   ]
  },
  {
   "cell_type": "code",
   "execution_count": 67,
   "metadata": {},
   "outputs": [
    {
     "data": {
      "text/plain": [
       "<AxesSubplot:ylabel='Density'>"
      ]
     },
     "execution_count": 67,
     "metadata": {},
     "output_type": "execute_result"
    },
    {
     "data": {
      "image/png": "[encoded data removed]",
      "text/plain": [
       "<Figure size 432x288 with 1 Axes>"
      ]
     },
     "metadata": {
      "needs_background": "light"
     },
     "output_type": "display_data"
    }
   ],
   "source": [
    "df['X3 distance to the nearest MRT station'].plot.density()"
   ]
  },
  {
   "cell_type": "markdown",
   "metadata": {},
   "source": [
    "The data contains no large values that would dominate the data, but there is a right skew. Therefore, we do not need to scale the data, but we do need to transform it."
   ]
  },
  {
   "cell_type": "code",
   "execution_count": 79,
   "metadata": {},
   "outputs": [
    {
     "data": {
      "text/plain": [
       "<AxesSubplot:>"
      ]
     },
     "execution_count": 79,
     "metadata": {},
     "output_type": "execute_result"
    },
    {
     "data": {
      "image/png": "[encoded data removed]",
      "text/plain": [
       "<Figure size 432x288 with 1 Axes>"
      ]
     },
     "metadata": {
      "needs_background": "light"
     },
     "output_type": "display_data"
    }
   ],
   "source": [
    "df['X3 distance to the nearest MRT station'].hist(bins=150)"
   ]
  },
  {
   "cell_type": "code",
   "execution_count": 80,
   "metadata": {},
   "outputs": [
    {
     "data": {
      "text/plain": [
       "<AxesSubplot:ylabel='Density'>"
      ]
     },
     "execution_count": 80,
     "metadata": {},
     "output_type": "execute_result"
    },
    {
     "data": {
      "image/png": "[encoded data removed]",
      "text/plain": [
       "<Figure size 432x288 with 1 Axes>"
      ]
     },
     "metadata": {
      "needs_background": "light"
     },
     "output_type": "display_data"
    }
   ],
   "source": [
    "# Square Root transformation\n",
    "df['X3_sqrt']=df['X3 distance to the nearest MRT station'].apply(lambda x:np.sqrt(x))\n",
    "df['X3_sqrt'].plot.density()"
   ]
  },
  {
   "cell_type": "code",
   "execution_count": 81,
   "metadata": {},
   "outputs": [
    {
     "data": {
      "text/plain": [
       "<AxesSubplot:ylabel='Density'>"
      ]
     },
     "execution_count": 81,
     "metadata": {},
     "output_type": "execute_result"
    },
    {
     "data": {
      "image/png": "[encoded data removed]",
      "text/plain": [
       "<Figure size 432x288 with 1 Axes>"
      ]
     },
     "metadata": {
      "needs_background": "light"
     },
     "output_type": "display_data"
    }
   ],
   "source": [
    "# Log transformation\n",
    "df['X3_log']=df['X3 distance to the nearest MRT station'].apply(lambda x:np.log(x))\n",
    "df['X3_log'].plot.density()"
   ]
  },
  {
   "cell_type": "markdown",
   "metadata": {},
   "source": [
    "The logarithmic transformation gives us a faily normal distribution, so that is the one we will stick with for X3."
   ]
  },
  {
   "cell_type": "code",
   "execution_count": 68,
   "metadata": {},
   "outputs": [
    {
     "data": {
      "text/plain": [
       "<AxesSubplot:ylabel='Density'>"
      ]
     },
     "execution_count": 68,
     "metadata": {},
     "output_type": "execute_result"
    },
    {
     "data": {
      "image/png": "[encoded data removed]",
      "text/plain": [
       "<Figure size 432x288 with 1 Axes>"
      ]
     },
     "metadata": {
      "needs_background": "light"
     },
     "output_type": "display_data"
    }
   ],
   "source": [
    "df['X5 latitude'].plot.density()"
   ]
  },
  {
   "cell_type": "markdown",
   "metadata": {},
   "source": [
    "There are no large values to dominate the data, and there is a fairly normal distribution. Therefore, scaling and transforming is not necessary here."
   ]
  },
  {
   "cell_type": "code",
   "execution_count": 69,
   "metadata": {},
   "outputs": [
    {
     "data": {
      "text/plain": [
       "<AxesSubplot:ylabel='Density'>"
      ]
     },
     "execution_count": 69,
     "metadata": {},
     "output_type": "execute_result"
    },
    {
     "data": {
      "image/png": "[encoded data removed]",
      "text/plain": [
       "<Figure size 432x288 with 1 Axes>"
      ]
     },
     "metadata": {
      "needs_background": "light"
     },
     "output_type": "display_data"
    }
   ],
   "source": [
    "df['X6 longitude'].plot.density()"
   ]
  },
  {
   "cell_type": "code",
   "execution_count": 78,
   "metadata": {},
   "outputs": [
    {
     "data": {
      "text/plain": [
       "<AxesSubplot:>"
      ]
     },
     "execution_count": 78,
     "metadata": {},
     "output_type": "execute_result"
    },
    {
     "data": {
      "image/png": "[encoded data removed]",
      "text/plain": [
       "<Figure size 432x288 with 1 Axes>"
      ]
     },
     "metadata": {
      "needs_background": "light"
     },
     "output_type": "display_data"
    }
   ],
   "source": [
    "df['X6 longitude'].hist(bins=150)"
   ]
  },
  {
   "cell_type": "markdown",
   "metadata": {},
   "source": [
    "The data contains no large values, but it has a slight left skew. Therefore, we do not need to scale the data, but we should transform it. ??"
   ]
  },
  {
   "cell_type": "code",
   "execution_count": 82,
   "metadata": {},
   "outputs": [
    {
     "data": {
      "text/plain": [
       "<AxesSubplot:ylabel='Density'>"
      ]
     },
     "execution_count": 82,
     "metadata": {},
     "output_type": "execute_result"
    },
    {
     "data": {
      "image/png": "[encoded data removed]",
      "text/plain": [
       "<Figure size 432x288 with 1 Axes>"
      ]
     },
     "metadata": {
      "needs_background": "light"
     },
     "output_type": "display_data"
    }
   ],
   "source": [
    "# Square Root transformation\n",
    "df['X6_sqrt']=df['X6 longitude'].apply(lambda x:np.sqrt(x))\n",
    "df['X6_sqrt'].plot.density()"
   ]
  },
  {
   "cell_type": "code",
   "execution_count": 83,
   "metadata": {
    "scrolled": true
   },
   "outputs": [
    {
     "data": {
      "text/plain": [
       "<AxesSubplot:ylabel='Density'>"
      ]
     },
     "execution_count": 83,
     "metadata": {},
     "output_type": "execute_result"
    },
    {
     "data": {
      "image/png": "[encoded data removed]",
      "text/plain": [
       "<Figure size 432x288 with 1 Axes>"
      ]
     },
     "metadata": {
      "needs_background": "light"
     },
     "output_type": "display_data"
    }
   ],
   "source": [
    "# Square Root transformation\n",
    "df['X6_log']=df['X6 longitude'].apply(lambda x:np.log(x))\n",
    "df['X6_log'].plot.density()"
   ]
  },
  {
   "cell_type": "code",
   "execution_count": 70,
   "metadata": {
    "scrolled": true
   },
   "outputs": [
    {
     "data": {
      "text/plain": [
       "<AxesSubplot:ylabel='Density'>"
      ]
     },
     "execution_count": 70,
     "metadata": {},
     "output_type": "execute_result"
    },
    {
     "data": {
      "image/png": "[encoded data removed]",
      "text/plain": [
       "<Figure size 432x288 with 1 Axes>"
      ]
     },
     "metadata": {
      "needs_background": "light"
     },
     "output_type": "display_data"
    }
   ],
   "source": [
    "df['Y house price of unit area'].plot.density()"
   ]
  },
  {
   "cell_type": "code",
   "execution_count": 77,
   "metadata": {},
   "outputs": [
    {
     "data": {
      "text/plain": [
       "<AxesSubplot:>"
      ]
     },
     "execution_count": 77,
     "metadata": {},
     "output_type": "execute_result"
    },
    {
     "data": {
      "image/png": "[encoded data removed]",
      "text/plain": [
       "<Figure size 432x288 with 1 Axes>"
      ]
     },
     "metadata": {
      "needs_background": "light"
     },
     "output_type": "display_data"
    }
   ],
   "source": [
    "df['Y house price of unit area'].hist(bins=150)"
   ]
  },
  {
   "cell_type": "markdown",
   "metadata": {},
   "source": [
    "The data has"
   ]
  },
  {
   "cell_type": "code",
   "execution_count": 84,
   "metadata": {},
   "outputs": [
    {
     "data": {
      "text/plain": [
       "<AxesSubplot:ylabel='Density'>"
      ]
     },
     "execution_count": 84,
     "metadata": {},
     "output_type": "execute_result"
    },
    {
     "data": {
      "image/png": "[encoded data removed]",
      "text/plain": [
       "<Figure size 432x288 with 1 Axes>"
      ]
     },
     "metadata": {
      "needs_background": "light"
     },
     "output_type": "display_data"
    }
   ],
   "source": [
    "# Square Root transformation\n",
    "df['Y_sqrt']=df['Y house price of unit area'].apply(lambda x:np.sqrt(x))\n",
    "df['Y_sqrt'].plot.density()"
   ]
  },
  {
   "cell_type": "code",
   "execution_count": null,
   "metadata": {},
   "outputs": [],
   "source": []
  },
  {
   "cell_type": "code",
   "execution_count": 50,
   "metadata": {},
   "outputs": [
    {
     "data": {
      "text/plain": [
       "<AxesSubplot:xlabel='X5 latitude', ylabel='Y house price of unit area'>"
      ]
     },
     "execution_count": 50,
     "metadata": {},
     "output_type": "execute_result"
    },
    {
     "data": {
      "image/png": "[encoded data removed]",
      "text/plain": [
       "<Figure size 432x288 with 1 Axes>"
      ]
     },
     "metadata": {
      "needs_background": "light"
     },
     "output_type": "display_data"
    }
   ],
   "source": [
    "sns.scatterplot(x='X5 latitude', y='Y house price of unit area', data=df)"
   ]
  },
  {
   "cell_type": "code",
   "execution_count": 49,
   "metadata": {},
   "outputs": [
    {
     "data": {
      "text/plain": [
       "<AxesSubplot:xlabel='X6 longitude', ylabel='Y house price of unit area'>"
      ]
     },
     "execution_count": 49,
     "metadata": {},
     "output_type": "execute_result"
    },
    {
     "data": {
      "image/png": "[encoded data removed]",
      "text/plain": [
       "<Figure size 432x288 with 1 Axes>"
      ]
     },
     "metadata": {
      "needs_background": "light"
     },
     "output_type": "display_data"
    }
   ],
   "source": [
    "sns.scatterplot(x='X6 longitude', y='Y house price of unit area', data=df)"
   ]
  },
  {
   "cell_type": "code",
   "execution_count": 37,
   "metadata": {},
   "outputs": [
    {
     "data": {
      "text/plain": [
       "<AxesSubplot:xlabel='X3 distance to the nearest MRT station', ylabel='Y house price of unit area'>"
      ]
     },
     "execution_count": 37,
     "metadata": {},
     "output_type": "execute_result"
    },
    {
     "data": {
      "image/png": "[encoded data removed]",
      "text/plain": [
       "<Figure size 432x288 with 1 Axes>"
      ]
     },
     "metadata": {
      "needs_background": "light"
     },
     "output_type": "display_data"
    }
   ],
   "source": [
    "sns.scatterplot(x='X3 distance to the nearest MRT station', y='Y house price of unit area', data=df)"
   ]
  },
  {
   "cell_type": "code",
   "execution_count": 38,
   "metadata": {},
   "outputs": [
    {
     "data": {
      "text/plain": [
       "<AxesSubplot:xlabel='X2 house age', ylabel='Y house price of unit area'>"
      ]
     },
     "execution_count": 38,
     "metadata": {},
     "output_type": "execute_result"
    },
    {
     "data": {
      "image/png": "[encoded data removed]",
      "text/plain": [
       "<Figure size 432x288 with 1 Axes>"
      ]
     },
     "metadata": {
      "needs_background": "light"
     },
     "output_type": "display_data"
    }
   ],
   "source": [
    "sns.scatterplot(x='X2 house age', y='Y house price of unit area', data=df)"
   ]
  },
  {
   "cell_type": "code",
   "execution_count": 39,
   "metadata": {},
   "outputs": [
    {
     "data": {
      "text/plain": [
       "<AxesSubplot:xlabel='X4 number of convenience stores', ylabel='Y house price of unit area'>"
      ]
     },
     "execution_count": 39,
     "metadata": {},
     "output_type": "execute_result"
    },
    {
     "data": {
      "image/png": "[encoded data removed]",
      "text/plain": [
       "<Figure size 432x288 with 1 Axes>"
      ]
     },
     "metadata": {
      "needs_background": "light"
     },
     "output_type": "display_data"
    }
   ],
   "source": [
    "sns.scatterplot(x='X4 number of convenience stores', y='Y house price of unit area', data=df)"
   ]
  },
  {
   "cell_type": "code",
   "execution_count": null,
   "metadata": {},
   "outputs": [],
   "source": []
  },
  {
   "cell_type": "markdown",
   "metadata": {},
   "source": [
    "# Justifications"
   ]
  },
  {
   "cell_type": "markdown",
   "metadata": {},
   "source": [
    "## Missing Values"
   ]
  },
  {
   "cell_type": "markdown",
   "metadata": {},
   "source": [
    "We do not need to use any methods to deal with missing values because there are no missing values."
   ]
  },
  {
   "cell_type": "markdown",
   "metadata": {},
   "source": [
    "## Outliers"
   ]
  },
  {
   "cell_type": "markdown",
   "metadata": {},
   "source": [
    "Accodring to the boxplots, house age and number of convenience stores do not have any outliers, so we do not need to worry about them. However, X3 distance to the nearest MRT station has outliers, so we need to look into them. There is nothing to suggest that these values were entered incorrectly or do not accurately measure what was intended. They also do not create a significant association, and they do change the results. Given all of this, it is best to not drop the outliers in X3."
   ]
  },
  {
   "cell_type": "markdown",
   "metadata": {},
   "source": [
    "## Center/Scale"
   ]
  },
  {
   "cell_type": "code",
   "execution_count": null,
   "metadata": {},
   "outputs": [],
   "source": []
  },
  {
   "cell_type": "markdown",
   "metadata": {},
   "source": [
    "## Transformation"
   ]
  },
  {
   "cell_type": "code",
   "execution_count": null,
   "metadata": {},
   "outputs": [],
   "source": []
  },
  {
   "cell_type": "markdown",
   "metadata": {},
   "source": [
    "## Model Evaluation"
   ]
  },
  {
   "cell_type": "code",
   "execution_count": null,
   "metadata": {},
   "outputs": [],
   "source": []
  },
  {
   "cell_type": "markdown",
   "metadata": {},
   "source": [
    "## Best Model"
   ]
  },
  {
   "cell_type": "code",
   "execution_count": null,
   "metadata": {},
   "outputs": [],
   "source": []
  }
 ],
 "metadata": {
  "kernelspec": {
   "display_name": "Python 3",
   "language": "python",
   "name": "python3"
  },
  "language_info": {
   "codemirror_mode": {
    "name": "ipython",
    "version": 3
   },
   "file_extension": ".py",
   "mimetype": "text/x-python",
   "name": "python",
   "nbconvert_exporter": "python",
   "pygments_lexer": "ipython3",
   "version": "3.8.5"
  }
 },
 "nbformat": 4,
 "nbformat_minor": 4
}
